{
  "cells": [
    {
      "cell_type": "markdown",
      "metadata": {
        "id": "view-in-github",
        "colab_type": "text"
      },
      "source": [
        "<a href=\"https://colab.research.google.com/github/Valerie-Osawe/Stutern/blob/main/Assignment_7.ipynb\" target=\"_parent\"><img src=\"https://colab.research.google.com/assets/colab-badge.svg\" alt=\"Open In Colab\"/></a>"
      ]
    },
    {
      "cell_type": "markdown",
      "metadata": {
        "id": "ea4f71cc-3255-4283-93c1-da83a00d1b0d"
      },
      "source": [
        "## Predict A Person's Salary"
      ],
      "id": "ea4f71cc-3255-4283-93c1-da83a00d1b0d"
    },
    {
      "cell_type": "markdown",
      "metadata": {
        "id": "172f8480-1c1d-46b3-a205-87f96b140b69"
      },
      "source": [
        "\n",
        "\n",
        "### Data Dictionary\n",
        "\n",
        "```\n",
        "- Age: continuous.\n",
        "\n",
        "- Workclass: Private, Self-emp-not-inc, Self-emp-inc, Federal-gov, Local-gov, State-gov, Without-pay, Never-worked.\n",
        "\n",
        "- Final_weight: continuous.\n",
        "\n",
        "- Education: Bachelors, Some-college, 11th, HS-grad, Prof-school, Assoc-acdm, Assoc-voc, 9th, 7th-8th, 12th, - Masters, 1st-4th, 10th, Doctorate, 5th-6th, Preschool.\n",
        "\n",
        "- Education_num: continuous.\n",
        "\n",
        "- Marital_status: Married-civ-spouse, Divorced, Never-married, Separated, Widowed, Married-spouse-absent, - Married-AF-spouse.\n",
        "\n",
        "- Occupation: Tech-support, Craft-repair, Other-service, Sales, Exec-managerial, Prof-specialty, Handlers-cleaners, Machine-op-inspct, Adm-clerical, Farming-fishing, Transport-moving, Priv-house-serv, Protective-serv, Armed-Forces.\n",
        "\n",
        "- Relationship: Wife, Own-child, Husband, Not-in-family, Other-relative, Unmarried.\n",
        "\n",
        "- Race: White, Asian-Pac-Islander, Amer-Indian-Eskimo, Other, Black.\n",
        "\n",
        "- Genger: Female, Male.\n",
        "\n",
        "- Capital_gain: continuous.\n",
        "\n",
        "- Capital_loss: continuous.\n",
        "\n",
        "- Hours_per_week: continuous.\n",
        "\n",
        "- Country: United-States, Cambodia, England, Puerto-Rico, Canada, Germany, Outlying-US(Guam-USVI-etc), India, Japan, Greece, South, China, Cuba, Iran, Honduras, Philippines, Italy, Poland, Jamaica, Vietnam, Mexico, Portugal, Ireland, France, Dominican-Republic, Laos, Ecuador, Taiwan, Haiti, Columbia, Hungary, Guatemala, Nicaragua, Scotland, Thailand, Yugoslavia, El-Salvador, Trinadad&Tobago, Peru, Hong, Holand-Netherlands.\n",
        "\n",
        "- Salary:\n",
        "```\n",
        "\n",
        "### Objective\n",
        "\n",
        "```\n",
        "Predict whether a person makes over 50K a year.\n",
        "\n",
        "```"
      ],
      "id": "172f8480-1c1d-46b3-a205-87f96b140b69"
    },
    {
      "cell_type": "code",
      "execution_count": 1,
      "metadata": {
        "id": "7f659c96-b085-483c-960c-16b53a0312e3"
      },
      "outputs": [],
      "source": [
        "# Built-in library\n",
        "import itertools\n",
        "\n",
        "# Standard imports\n",
        "import numpy as np\n",
        "import pandas as pd\n",
        "import matplotlib.pyplot as plt\n",
        "import seaborn as sns\n",
        "\n",
        "\n",
        "# pandas settings\n",
        "pd.options.display.max_rows = 1_000\n",
        "pd.options.display.max_columns = 1_000\n",
        "pd.options.display.max_colwidth = 1_000\n",
        "\n"
      ],
      "id": "7f659c96-b085-483c-960c-16b53a0312e3"
    },
    {
      "cell_type": "code",
      "execution_count": 2,
      "metadata": {
        "id": "a0038bcd-5c4a-44f9-abe7-e3887fec07aa",
        "colab": {
          "base_uri": "https://localhost:8080/",
          "height": 357
        },
        "outputId": "139e00f6-37e6-4012-b555-c11dc6536880"
      },
      "outputs": [
        {
          "output_type": "execute_result",
          "data": {
            "text/plain": [
              "   Age          Workclass  Final_weight   Education  Education_num  \\\n",
              "0   50   Self-emp-not-inc         83311   Bachelors             13   \n",
              "1   38            Private        215646     HS-grad              9   \n",
              "2   53            Private        234721        11th              7   \n",
              "3   28            Private        338409   Bachelors             13   \n",
              "4   37            Private        284582     Masters             14   \n",
              "\n",
              "        Marital_status          Occupation    Relationship    Race      Sex  \\\n",
              "0   Married-civ-spouse     Exec-managerial         Husband   White     Male   \n",
              "1             Divorced   Handlers-cleaners   Not-in-family   White     Male   \n",
              "2   Married-civ-spouse   Handlers-cleaners         Husband   Black     Male   \n",
              "3   Married-civ-spouse      Prof-specialty            Wife   Black   Female   \n",
              "4   Married-civ-spouse     Exec-managerial            Wife   White   Female   \n",
              "\n",
              "   Capital_gain  Capital_loss  Hours_per_week         Country  Salary  \n",
              "0             0             0              13   United-States   <=50K  \n",
              "1             0             0              40   United-States   <=50K  \n",
              "2             0             0              40   United-States   <=50K  \n",
              "3             0             0              40            Cuba   <=50K  \n",
              "4             0             0              40   United-States   <=50K  "
            ],
            "text/html": [
              "\n",
              "\n",
              "  <div id=\"df-c6ff53dc-9478-4812-bbf1-ca4bb8ca5a2d\">\n",
              "    <div class=\"colab-df-container\">\n",
              "      <div>\n",
              "<style scoped>\n",
              "    .dataframe tbody tr th:only-of-type {\n",
              "        vertical-align: middle;\n",
              "    }\n",
              "\n",
              "    .dataframe tbody tr th {\n",
              "        vertical-align: top;\n",
              "    }\n",
              "\n",
              "    .dataframe thead th {\n",
              "        text-align: right;\n",
              "    }\n",
              "</style>\n",
              "<table border=\"1\" class=\"dataframe\">\n",
              "  <thead>\n",
              "    <tr style=\"text-align: right;\">\n",
              "      <th></th>\n",
              "      <th>Age</th>\n",
              "      <th>Workclass</th>\n",
              "      <th>Final_weight</th>\n",
              "      <th>Education</th>\n",
              "      <th>Education_num</th>\n",
              "      <th>Marital_status</th>\n",
              "      <th>Occupation</th>\n",
              "      <th>Relationship</th>\n",
              "      <th>Race</th>\n",
              "      <th>Sex</th>\n",
              "      <th>Capital_gain</th>\n",
              "      <th>Capital_loss</th>\n",
              "      <th>Hours_per_week</th>\n",
              "      <th>Country</th>\n",
              "      <th>Salary</th>\n",
              "    </tr>\n",
              "  </thead>\n",
              "  <tbody>\n",
              "    <tr>\n",
              "      <th>0</th>\n",
              "      <td>50</td>\n",
              "      <td>Self-emp-not-inc</td>\n",
              "      <td>83311</td>\n",
              "      <td>Bachelors</td>\n",
              "      <td>13</td>\n",
              "      <td>Married-civ-spouse</td>\n",
              "      <td>Exec-managerial</td>\n",
              "      <td>Husband</td>\n",
              "      <td>White</td>\n",
              "      <td>Male</td>\n",
              "      <td>0</td>\n",
              "      <td>0</td>\n",
              "      <td>13</td>\n",
              "      <td>United-States</td>\n",
              "      <td>&lt;=50K</td>\n",
              "    </tr>\n",
              "    <tr>\n",
              "      <th>1</th>\n",
              "      <td>38</td>\n",
              "      <td>Private</td>\n",
              "      <td>215646</td>\n",
              "      <td>HS-grad</td>\n",
              "      <td>9</td>\n",
              "      <td>Divorced</td>\n",
              "      <td>Handlers-cleaners</td>\n",
              "      <td>Not-in-family</td>\n",
              "      <td>White</td>\n",
              "      <td>Male</td>\n",
              "      <td>0</td>\n",
              "      <td>0</td>\n",
              "      <td>40</td>\n",
              "      <td>United-States</td>\n",
              "      <td>&lt;=50K</td>\n",
              "    </tr>\n",
              "    <tr>\n",
              "      <th>2</th>\n",
              "      <td>53</td>\n",
              "      <td>Private</td>\n",
              "      <td>234721</td>\n",
              "      <td>11th</td>\n",
              "      <td>7</td>\n",
              "      <td>Married-civ-spouse</td>\n",
              "      <td>Handlers-cleaners</td>\n",
              "      <td>Husband</td>\n",
              "      <td>Black</td>\n",
              "      <td>Male</td>\n",
              "      <td>0</td>\n",
              "      <td>0</td>\n",
              "      <td>40</td>\n",
              "      <td>United-States</td>\n",
              "      <td>&lt;=50K</td>\n",
              "    </tr>\n",
              "    <tr>\n",
              "      <th>3</th>\n",
              "      <td>28</td>\n",
              "      <td>Private</td>\n",
              "      <td>338409</td>\n",
              "      <td>Bachelors</td>\n",
              "      <td>13</td>\n",
              "      <td>Married-civ-spouse</td>\n",
              "      <td>Prof-specialty</td>\n",
              "      <td>Wife</td>\n",
              "      <td>Black</td>\n",
              "      <td>Female</td>\n",
              "      <td>0</td>\n",
              "      <td>0</td>\n",
              "      <td>40</td>\n",
              "      <td>Cuba</td>\n",
              "      <td>&lt;=50K</td>\n",
              "    </tr>\n",
              "    <tr>\n",
              "      <th>4</th>\n",
              "      <td>37</td>\n",
              "      <td>Private</td>\n",
              "      <td>284582</td>\n",
              "      <td>Masters</td>\n",
              "      <td>14</td>\n",
              "      <td>Married-civ-spouse</td>\n",
              "      <td>Exec-managerial</td>\n",
              "      <td>Wife</td>\n",
              "      <td>White</td>\n",
              "      <td>Female</td>\n",
              "      <td>0</td>\n",
              "      <td>0</td>\n",
              "      <td>40</td>\n",
              "      <td>United-States</td>\n",
              "      <td>&lt;=50K</td>\n",
              "    </tr>\n",
              "  </tbody>\n",
              "</table>\n",
              "</div>\n",
              "      <button class=\"colab-df-convert\" onclick=\"convertToInteractive('df-c6ff53dc-9478-4812-bbf1-ca4bb8ca5a2d')\"\n",
              "              title=\"Convert this dataframe to an interactive table.\"\n",
              "              style=\"display:none;\">\n",
              "\n",
              "  <svg xmlns=\"http://www.w3.org/2000/svg\" height=\"24px\"viewBox=\"0 0 24 24\"\n",
              "       width=\"24px\">\n",
              "    <path d=\"M0 0h24v24H0V0z\" fill=\"none\"/>\n",
              "    <path d=\"M18.56 5.44l.94 2.06.94-2.06 2.06-.94-2.06-.94-.94-2.06-.94 2.06-2.06.94zm-11 1L8.5 8.5l.94-2.06 2.06-.94-2.06-.94L8.5 2.5l-.94 2.06-2.06.94zm10 10l.94 2.06.94-2.06 2.06-.94-2.06-.94-.94-2.06-.94 2.06-2.06.94z\"/><path d=\"M17.41 7.96l-1.37-1.37c-.4-.4-.92-.59-1.43-.59-.52 0-1.04.2-1.43.59L10.3 9.45l-7.72 7.72c-.78.78-.78 2.05 0 2.83L4 21.41c.39.39.9.59 1.41.59.51 0 1.02-.2 1.41-.59l7.78-7.78 2.81-2.81c.8-.78.8-2.07 0-2.86zM5.41 20L4 18.59l7.72-7.72 1.47 1.35L5.41 20z\"/>\n",
              "  </svg>\n",
              "      </button>\n",
              "\n",
              "\n",
              "\n",
              "    <div id=\"df-fdb63ff9-e24a-43f4-879b-0adba6ba6d1e\">\n",
              "      <button class=\"colab-df-quickchart\" onclick=\"quickchart('df-fdb63ff9-e24a-43f4-879b-0adba6ba6d1e')\"\n",
              "              title=\"Suggest charts.\"\n",
              "              style=\"display:none;\">\n",
              "\n",
              "<svg xmlns=\"http://www.w3.org/2000/svg\" height=\"24px\"viewBox=\"0 0 24 24\"\n",
              "     width=\"24px\">\n",
              "    <g>\n",
              "        <path d=\"M19 3H5c-1.1 0-2 .9-2 2v14c0 1.1.9 2 2 2h14c1.1 0 2-.9 2-2V5c0-1.1-.9-2-2-2zM9 17H7v-7h2v7zm4 0h-2V7h2v10zm4 0h-2v-4h2v4z\"/>\n",
              "    </g>\n",
              "</svg>\n",
              "      </button>\n",
              "    </div>\n",
              "\n",
              "<style>\n",
              "  .colab-df-quickchart {\n",
              "    background-color: #E8F0FE;\n",
              "    border: none;\n",
              "    border-radius: 50%;\n",
              "    cursor: pointer;\n",
              "    display: none;\n",
              "    fill: #1967D2;\n",
              "    height: 32px;\n",
              "    padding: 0 0 0 0;\n",
              "    width: 32px;\n",
              "  }\n",
              "\n",
              "  .colab-df-quickchart:hover {\n",
              "    background-color: #E2EBFA;\n",
              "    box-shadow: 0px 1px 2px rgba(60, 64, 67, 0.3), 0px 1px 3px 1px rgba(60, 64, 67, 0.15);\n",
              "    fill: #174EA6;\n",
              "  }\n",
              "\n",
              "  [theme=dark] .colab-df-quickchart {\n",
              "    background-color: #3B4455;\n",
              "    fill: #D2E3FC;\n",
              "  }\n",
              "\n",
              "  [theme=dark] .colab-df-quickchart:hover {\n",
              "    background-color: #434B5C;\n",
              "    box-shadow: 0px 1px 3px 1px rgba(0, 0, 0, 0.15);\n",
              "    filter: drop-shadow(0px 1px 2px rgba(0, 0, 0, 0.3));\n",
              "    fill: #FFFFFF;\n",
              "  }\n",
              "</style>\n",
              "\n",
              "    <script>\n",
              "      async function quickchart(key) {\n",
              "        const containerElement = document.querySelector('#' + key);\n",
              "        const charts = await google.colab.kernel.invokeFunction(\n",
              "            'suggestCharts', [key], {});\n",
              "      }\n",
              "    </script>\n",
              "\n",
              "      <script>\n",
              "\n",
              "function displayQuickchartButton(domScope) {\n",
              "  let quickchartButtonEl =\n",
              "    domScope.querySelector('#df-fdb63ff9-e24a-43f4-879b-0adba6ba6d1e button.colab-df-quickchart');\n",
              "  quickchartButtonEl.style.display =\n",
              "    google.colab.kernel.accessAllowed ? 'block' : 'none';\n",
              "}\n",
              "\n",
              "        displayQuickchartButton(document);\n",
              "      </script>\n",
              "      <style>\n",
              "    .colab-df-container {\n",
              "      display:flex;\n",
              "      flex-wrap:wrap;\n",
              "      gap: 12px;\n",
              "    }\n",
              "\n",
              "    .colab-df-convert {\n",
              "      background-color: #E8F0FE;\n",
              "      border: none;\n",
              "      border-radius: 50%;\n",
              "      cursor: pointer;\n",
              "      display: none;\n",
              "      fill: #1967D2;\n",
              "      height: 32px;\n",
              "      padding: 0 0 0 0;\n",
              "      width: 32px;\n",
              "    }\n",
              "\n",
              "    .colab-df-convert:hover {\n",
              "      background-color: #E2EBFA;\n",
              "      box-shadow: 0px 1px 2px rgba(60, 64, 67, 0.3), 0px 1px 3px 1px rgba(60, 64, 67, 0.15);\n",
              "      fill: #174EA6;\n",
              "    }\n",
              "\n",
              "    [theme=dark] .colab-df-convert {\n",
              "      background-color: #3B4455;\n",
              "      fill: #D2E3FC;\n",
              "    }\n",
              "\n",
              "    [theme=dark] .colab-df-convert:hover {\n",
              "      background-color: #434B5C;\n",
              "      box-shadow: 0px 1px 3px 1px rgba(0, 0, 0, 0.15);\n",
              "      filter: drop-shadow(0px 1px 2px rgba(0, 0, 0, 0.3));\n",
              "      fill: #FFFFFF;\n",
              "    }\n",
              "  </style>\n",
              "\n",
              "      <script>\n",
              "        const buttonEl =\n",
              "          document.querySelector('#df-c6ff53dc-9478-4812-bbf1-ca4bb8ca5a2d button.colab-df-convert');\n",
              "        buttonEl.style.display =\n",
              "          google.colab.kernel.accessAllowed ? 'block' : 'none';\n",
              "\n",
              "        async function convertToInteractive(key) {\n",
              "          const element = document.querySelector('#df-c6ff53dc-9478-4812-bbf1-ca4bb8ca5a2d');\n",
              "          const dataTable =\n",
              "            await google.colab.kernel.invokeFunction('convertToInteractive',\n",
              "                                                     [key], {});\n",
              "          if (!dataTable) return;\n",
              "\n",
              "          const docLinkHtml = 'Like what you see? Visit the ' +\n",
              "            '<a target=\"_blank\" href=https://colab.research.google.com/notebooks/data_table.ipynb>data table notebook</a>'\n",
              "            + ' to learn more about interactive tables.';\n",
              "          element.innerHTML = '';\n",
              "          dataTable['output_type'] = 'display_data';\n",
              "          await google.colab.output.renderOutput(dataTable, element);\n",
              "          const docLink = document.createElement('div');\n",
              "          docLink.innerHTML = docLinkHtml;\n",
              "          element.appendChild(docLink);\n",
              "        }\n",
              "      </script>\n",
              "    </div>\n",
              "  </div>\n"
            ]
          },
          "metadata": {},
          "execution_count": 2
        }
      ],
      "source": [
        "# Load the dataset\n",
        "salary = pd.read_csv(\"salary.csv\")\n",
        "\n",
        "# Check the first few rows of the dataset\n",
        "salary.head()"
      ],
      "id": "a0038bcd-5c4a-44f9-abe7-e3887fec07aa"
    },
    {
      "cell_type": "markdown",
      "metadata": {
        "id": "351cf723-2f78-47a2-9847-76a6bcfe9594"
      },
      "source": [
        "### Data Exploration and Preprocessing\n",
        "\n",
        " The data needs to cleaned and preprocessed the before we can use it to train our machine learning model. This will involve handling missing values, converting categorical variables to numerical.\n",
        "\n"
      ],
      "id": "351cf723-2f78-47a2-9847-76a6bcfe9594"
    },
    {
      "cell_type": "code",
      "execution_count": 3,
      "metadata": {
        "id": "2e0d3a49-67a1-433d-a7f8-6ff80d5ef799",
        "colab": {
          "base_uri": "https://localhost:8080/"
        },
        "outputId": "4b362cc1-ad7b-4e96-9a30-1749ede2d256"
      },
      "outputs": [
        {
          "output_type": "execute_result",
          "data": {
            "text/plain": [
              "(32560, 15)"
            ]
          },
          "metadata": {},
          "execution_count": 3
        }
      ],
      "source": [
        "# Check the shape of the dataset\n",
        "salary.shape"
      ],
      "id": "2e0d3a49-67a1-433d-a7f8-6ff80d5ef799"
    },
    {
      "cell_type": "code",
      "execution_count": 4,
      "metadata": {
        "id": "xalF4IOWRp4B",
        "colab": {
          "base_uri": "https://localhost:8080/"
        },
        "outputId": "3d55346a-c8d9-4ea8-b505-6118ba813db2"
      },
      "outputs": [
        {
          "output_type": "stream",
          "name": "stdout",
          "text": [
            "<class 'pandas.core.frame.DataFrame'>\n",
            "RangeIndex: 32560 entries, 0 to 32559\n",
            "Data columns (total 15 columns):\n",
            " #   Column          Non-Null Count  Dtype \n",
            "---  ------          --------------  ----- \n",
            " 0   Age             32560 non-null  int64 \n",
            " 1   Workclass       32560 non-null  object\n",
            " 2   Final_weight    32560 non-null  int64 \n",
            " 3   Education       32560 non-null  object\n",
            " 4   Education_num   32560 non-null  int64 \n",
            " 5   Marital_status  32560 non-null  object\n",
            " 6   Occupation      32560 non-null  object\n",
            " 7   Relationship    32560 non-null  object\n",
            " 8   Race            32560 non-null  object\n",
            " 9   Sex             32560 non-null  object\n",
            " 10  Capital_gain    32560 non-null  int64 \n",
            " 11  Capital_loss    32560 non-null  int64 \n",
            " 12  Hours_per_week  32560 non-null  int64 \n",
            " 13  Country         32560 non-null  object\n",
            " 14  Salary          32560 non-null  object\n",
            "dtypes: int64(6), object(9)\n",
            "memory usage: 3.7+ MB\n"
          ]
        }
      ],
      "source": [
        "salary.info()"
      ],
      "id": "xalF4IOWRp4B"
    },
    {
      "cell_type": "code",
      "execution_count": 5,
      "metadata": {
        "id": "a5757c65-dabd-400a-97b5-acf7d16fec29",
        "colab": {
          "base_uri": "https://localhost:8080/"
        },
        "outputId": "cd9207d6-8664-4e55-dfc1-8f5b1175686d"
      },
      "outputs": [
        {
          "output_type": "execute_result",
          "data": {
            "text/plain": [
              "Age               0\n",
              "Workclass         0\n",
              "Final_weight      0\n",
              "Education         0\n",
              "Education_num     0\n",
              "Marital_status    0\n",
              "Occupation        0\n",
              "Relationship      0\n",
              "Race              0\n",
              "Sex               0\n",
              "Capital_gain      0\n",
              "Capital_loss      0\n",
              "Hours_per_week    0\n",
              "Country           0\n",
              "Salary            0\n",
              "dtype: int64"
            ]
          },
          "metadata": {},
          "execution_count": 5
        }
      ],
      "source": [
        "# Check for missing values\n",
        "salary.isnull().sum()"
      ],
      "id": "a5757c65-dabd-400a-97b5-acf7d16fec29"
    },
    {
      "cell_type": "code",
      "execution_count": 6,
      "metadata": {
        "id": "cc1aaf1a-acdd-4f1e-b30e-43a2c254cb95",
        "colab": {
          "base_uri": "https://localhost:8080/"
        },
        "outputId": "c8cffcae-b421-46e3-e3e3-361d43ee2171"
      },
      "outputs": [
        {
          "output_type": "execute_result",
          "data": {
            "text/plain": [
              " United-States                 0.895854\n",
              " Mexico                        0.019748\n",
              " ?                             0.017905\n",
              " Philippines                   0.006081\n",
              " Germany                       0.004208\n",
              " Canada                        0.003716\n",
              " Puerto-Rico                   0.003501\n",
              " El-Salvador                   0.003256\n",
              " India                         0.003071\n",
              " Cuba                          0.002918\n",
              " England                       0.002764\n",
              " Jamaica                       0.002488\n",
              " South                         0.002457\n",
              " China                         0.002303\n",
              " Italy                         0.002242\n",
              " Dominican-Republic            0.002150\n",
              " Vietnam                       0.002058\n",
              " Guatemala                     0.001966\n",
              " Japan                         0.001904\n",
              " Poland                        0.001843\n",
              " Columbia                      0.001812\n",
              " Taiwan                        0.001566\n",
              " Haiti                         0.001351\n",
              " Iran                          0.001321\n",
              " Portugal                      0.001136\n",
              " Nicaragua                     0.001044\n",
              " Peru                          0.000952\n",
              " France                        0.000891\n",
              " Greece                        0.000891\n",
              " Ecuador                       0.000860\n",
              " Ireland                       0.000737\n",
              " Hong                          0.000614\n",
              " Cambodia                      0.000584\n",
              " Trinadad&Tobago               0.000584\n",
              " Laos                          0.000553\n",
              " Thailand                      0.000553\n",
              " Yugoslavia                    0.000491\n",
              " Outlying-US(Guam-USVI-etc)    0.000430\n",
              " Honduras                      0.000399\n",
              " Hungary                       0.000399\n",
              " Scotland                      0.000369\n",
              " Holand-Netherlands            0.000031\n",
              "Name: Country, dtype: float64"
            ]
          },
          "metadata": {},
          "execution_count": 6
        }
      ],
      "source": [
        "# explore the country column\n",
        "salary.Country.value_counts(normalize = True)"
      ],
      "id": "cc1aaf1a-acdd-4f1e-b30e-43a2c254cb95"
    },
    {
      "cell_type": "markdown",
      "metadata": {
        "id": "69FoeESmC7dv"
      },
      "source": [
        "From the data distribution seen above there are many rare labels. It can be seen that 91% of the country is United States. This means the data is highly imbalanced. Therefore i will categorize the other countries as outside-US."
      ],
      "id": "69FoeESmC7dv"
    },
    {
      "cell_type": "code",
      "execution_count": 7,
      "metadata": {
        "id": "xchEX23DJZMx"
      },
      "outputs": [],
      "source": [
        "# Dropping rows with '?' in the dataframe\n",
        "\n",
        "# Replace '?' with NaN\n",
        "salary.replace(' ?', np.nan, inplace=True)\n",
        "\n",
        "# Drop rows with NaN values\n",
        "salary.dropna(inplace=True)"
      ],
      "id": "xchEX23DJZMx"
    },
    {
      "cell_type": "code",
      "execution_count": 8,
      "metadata": {
        "id": "cHWDmLniE_oJ",
        "colab": {
          "base_uri": "https://localhost:8080/"
        },
        "outputId": "5184ed6b-8beb-46b5-d1d1-b2af0a1bcbcb"
      },
      "outputs": [
        {
          "output_type": "execute_result",
          "data": {
            "text/plain": [
              " United-States    0.911873\n",
              " Outside-Us       0.088127\n",
              "Name: Country, dtype: float64"
            ]
          },
          "metadata": {},
          "execution_count": 8
        }
      ],
      "source": [
        "us = salary[salary['Country'] == ' United-States']['Country'].unique()\n",
        "# Replace rare labels with 'Outside-Us'\n",
        "salary.loc[~salary['Country'].isin(us), 'Country'] = ' Outside-Us'\n",
        "\n",
        "# check the variables in the country column\n",
        "salary.Country.value_counts(normalize = True)"
      ],
      "id": "cHWDmLniE_oJ"
    },
    {
      "cell_type": "code",
      "source": [
        "# explore the occupation column\n",
        "salary.Occupation.value_counts(normalize = True)"
      ],
      "metadata": {
        "colab": {
          "base_uri": "https://localhost:8080/"
        },
        "id": "tHm44tVtCucZ",
        "outputId": "4d66b6d5-d379-4cbd-a8ac-34500019d2bc"
      },
      "id": "tHm44tVtCucZ",
      "execution_count": 9,
      "outputs": [
        {
          "output_type": "execute_result",
          "data": {
            "text/plain": [
              " Prof-specialty       0.133882\n",
              " Craft-repair         0.133616\n",
              " Exec-managerial      0.132356\n",
              " Adm-clerical         0.123338\n",
              " Sales                0.118829\n",
              " Other-service        0.106495\n",
              " Machine-op-inspct    0.065184\n",
              " Transport-moving     0.052120\n",
              " Handlers-cleaners    0.044760\n",
              " Farming-fishing      0.032791\n",
              " Tech-support         0.030238\n",
              " Protective-serv      0.021352\n",
              " Priv-house-serv      0.004741\n",
              " Armed-Forces         0.000298\n",
              "Name: Occupation, dtype: float64"
            ]
          },
          "metadata": {},
          "execution_count": 9
        }
      ]
    },
    {
      "cell_type": "code",
      "execution_count": 10,
      "metadata": {
        "id": "z89SFb55KOXN",
        "colab": {
          "base_uri": "https://localhost:8080/"
        },
        "outputId": "dbdbb597-4b70-4783-8878-39f01740351d"
      },
      "outputs": [
        {
          "output_type": "execute_result",
          "data": {
            "text/plain": [
              " White                 0.859786\n",
              " Black                 0.093399\n",
              " Asian-Pac-Islander    0.029674\n",
              " Amer-Indian-Eskimo    0.009482\n",
              " Other                 0.007659\n",
              "Name: Race, dtype: float64"
            ]
          },
          "metadata": {},
          "execution_count": 10
        }
      ],
      "source": [
        "# explore the Race column\n",
        "salary.Race.value_counts(normalize = True)"
      ],
      "id": "z89SFb55KOXN"
    },
    {
      "cell_type": "markdown",
      "metadata": {
        "id": "Vp6UHsYaKXQM"
      },
      "source": [
        "Again the race column is imbalanced. 86% of the race are white in the dataset, therefore the rare labels will be categorize as others."
      ],
      "id": "Vp6UHsYaKXQM"
    },
    {
      "cell_type": "code",
      "execution_count": 11,
      "metadata": {
        "id": "YzJmWufSKWu2",
        "colab": {
          "base_uri": "https://localhost:8080/"
        },
        "outputId": "08f8623e-4281-4c88-f507-c0b5e2d9d062"
      },
      "outputs": [
        {
          "output_type": "execute_result",
          "data": {
            "text/plain": [
              " White     0.859786\n",
              " Others    0.140214\n",
              "Name: Race, dtype: float64"
            ]
          },
          "metadata": {},
          "execution_count": 11
        }
      ],
      "source": [
        "white = salary[salary['Race'] == ' White']['Race'].unique()\n",
        "# Replace rare labels with 'Outside-Us'\n",
        "salary.loc[~salary['Race'].isin(white), 'Race'] = ' Others'\n",
        "\n",
        "# check the variables in the country column\n",
        "salary.Race.value_counts(normalize = True)"
      ],
      "id": "YzJmWufSKWu2"
    },
    {
      "cell_type": "code",
      "execution_count": 12,
      "metadata": {
        "id": "ve_aA-sZDKaf",
        "colab": {
          "base_uri": "https://localhost:8080/",
          "height": 564
        },
        "outputId": "deca8ce7-8219-4287-d601-dbd64e2d382d"
      },
      "outputs": [
        {
          "output_type": "display_data",
          "data": {
            "text/plain": [
              "<Figure size 800x600 with 1 Axes>"
            ],
            "image/png": "[encoded data removed]"
          },
          "metadata": {}
        }
      ],
      "source": [
        "def plot_stacked_bar(df, x_col, hue_col, figsize = (10, 8)):\n",
        "    plt.figure(figsize=figsize)\n",
        "    ax = sns.countplot(data=df, x=x_col, hue=hue_col)\n",
        "    plt.xlabel(x_col)\n",
        "    plt.ylabel('Count')\n",
        "    plt.title(f'Comparison of {x_col} and {hue_col}')\n",
        "    plt.legend(title=hue_col)\n",
        "\n",
        "    # Add value counts above each bar\n",
        "    for p in ax.patches:\n",
        "        ax.annotate(f'{p.get_height()}', (p.get_x() + p.get_width() / 2, p.get_height()), ha='center', va='bottom')\n",
        "\n",
        "    plt.show()\n",
        "\n",
        "# Call function\n",
        "plot_stacked_bar(salary, 'Workclass', 'Salary', figsize = (8,6))"
      ],
      "id": "ve_aA-sZDKaf"
    },
    {
      "cell_type": "markdown",
      "metadata": {
        "id": "UQqrqQ79Mxm4"
      },
      "source": [
        "From the plot above it can be seen that most of the workclass from the dataset were Private and it also had the highest people with salaries greater than 50K. The others can be classified as rare labels and therefore be converted to Others."
      ],
      "id": "UQqrqQ79Mxm4"
    },
    {
      "cell_type": "code",
      "execution_count": 13,
      "metadata": {
        "id": "t5EsnAlJMwXd",
        "colab": {
          "base_uri": "https://localhost:8080/"
        },
        "outputId": "ed883845-13a1-4fec-dfa1-1abec7a7fe3a"
      },
      "outputs": [
        {
          "output_type": "execute_result",
          "data": {
            "text/plain": [
              " Private    0.738901\n",
              " Others     0.261099\n",
              "Name: Workclass, dtype: float64"
            ]
          },
          "metadata": {},
          "execution_count": 13
        }
      ],
      "source": [
        "private = salary[salary['Workclass'] == ' Private']['Workclass'].unique()\n",
        "# Replace rare labels with 'others'\n",
        "salary.loc[~salary['Workclass'].isin(private), 'Workclass'] = ' Others'\n",
        "\n",
        "# check the variables in the country column\n",
        "salary.Workclass.value_counts(normalize = True)"
      ],
      "id": "t5EsnAlJMwXd"
    },
    {
      "cell_type": "code",
      "execution_count": 14,
      "metadata": {
        "id": "sNYGdCeC4tGm",
        "colab": {
          "base_uri": "https://localhost:8080/",
          "height": 504
        },
        "outputId": "d1be7188-789f-4936-88b9-61ed3975cec0"
      },
      "outputs": [
        {
          "output_type": "display_data",
          "data": {
            "text/plain": [
              "<Figure size 1200x600 with 1 Axes>"
            ],
            "image/png": "[encoded data removed]"
          },
          "metadata": {}
        }
      ],
      "source": [
        "plot_stacked_bar(salary, 'Marital_status', 'Salary', figsize = (12,6))"
      ],
      "id": "sNYGdCeC4tGm"
    },
    {
      "cell_type": "markdown",
      "metadata": {
        "id": "LTg1Q0qxPebY"
      },
      "source": [
        "From the plot above it can be seen that the married-civ-spouse had the highest people with salaries greater than 50K and there are still rare labels in the column."
      ],
      "id": "LTg1Q0qxPebY"
    },
    {
      "cell_type": "code",
      "execution_count": 15,
      "metadata": {
        "id": "AURyuKutQ4pO",
        "colab": {
          "base_uri": "https://localhost:8080/"
        },
        "outputId": "1db54fec-fa0f-483d-cd5f-f73c489880cc"
      },
      "outputs": [
        {
          "output_type": "execute_result",
          "data": {
            "text/plain": [
              " Married-civ-spouse    0.479294\n",
              " Never-married         0.322436\n",
              " Divorced              0.139717\n",
              " Separated             0.031133\n",
              " Widowed               0.027420\n",
              "Name: Marital_status, dtype: float64"
            ]
          },
          "metadata": {},
          "execution_count": 15
        }
      ],
      "source": [
        "new_var =  [' Married-spouse-absent', ' Married-AF-spouse']\n",
        "\n",
        "salary.loc[salary['Marital_status'].isin(new_var), 'Marital_status'] = ' Married-civ-spouse'\n",
        "\n",
        "# check the variables in the marital_status column\n",
        "salary.Marital_status.value_counts(normalize = True)"
      ],
      "id": "AURyuKutQ4pO"
    },
    {
      "cell_type": "code",
      "execution_count": 16,
      "metadata": {
        "id": "9yKJhghfaU3w",
        "colab": {
          "base_uri": "https://localhost:8080/",
          "height": 564
        },
        "outputId": "206030fa-319a-4e81-f35b-4c528fceaa81"
      },
      "outputs": [
        {
          "output_type": "display_data",
          "data": {
            "text/plain": [
              "<Figure size 800x600 with 1 Axes>"
            ],
            "image/png": "[encoded data removed]"
          },
          "metadata": {}
        }
      ],
      "source": [
        "plot_stacked_bar(salary, 'Race', 'Salary', figsize = (8,6))"
      ],
      "id": "9yKJhghfaU3w"
    },
    {
      "cell_type": "markdown",
      "metadata": {
        "id": "Xwn7lVzda4pt"
      },
      "source": [
        "It can be seen that the white race has people that earn more than 50K."
      ],
      "id": "Xwn7lVzda4pt"
    },
    {
      "cell_type": "code",
      "execution_count": 17,
      "metadata": {
        "id": "IuHM1a-S581k",
        "colab": {
          "base_uri": "https://localhost:8080/",
          "height": 564
        },
        "outputId": "5e38a2bb-da4c-46af-f5e2-cfabac7cd3a2"
      },
      "outputs": [
        {
          "output_type": "display_data",
          "data": {
            "text/plain": [
              "<Figure size 800x600 with 1 Axes>"
            ],
            "image/png": "[encoded data removed]"
          },
          "metadata": {}
        }
      ],
      "source": [
        "plot_stacked_bar(salary, 'Sex', 'Salary', figsize = (8,6))"
      ],
      "id": "IuHM1a-S581k"
    },
    {
      "cell_type": "markdown",
      "metadata": {
        "id": "d8Glz0KZWL9L"
      },
      "source": [
        "From the plot it can be seen that males make more than 50K."
      ],
      "id": "d8Glz0KZWL9L"
    },
    {
      "cell_type": "code",
      "execution_count": 18,
      "metadata": {
        "id": "voAHo_fV6U2S",
        "colab": {
          "base_uri": "https://localhost:8080/"
        },
        "outputId": "2b6e14c9-0e17-4945-bc8b-9f24c4c0479d"
      },
      "outputs": [
        {
          "output_type": "execute_result",
          "data": {
            "text/plain": [
              " HS-grad         0.326249\n",
              " Some-college    0.221412\n",
              " Bachelors       0.167203\n",
              " Masters         0.053944\n",
              " Assoc-voc       0.043334\n",
              " 11th            0.034747\n",
              " Assoc-acdm      0.033421\n",
              " 10th            0.027187\n",
              " 7th-8th         0.018468\n",
              " Prof-school     0.017970\n",
              " 9th             0.015086\n",
              " 12th            0.012500\n",
              " Doctorate       0.012433\n",
              " 5th-6th         0.009549\n",
              " 1st-4th         0.005006\n",
              " Preschool       0.001492\n",
              "Name: Education, dtype: float64"
            ]
          },
          "metadata": {},
          "execution_count": 18
        }
      ],
      "source": [
        "salary.Education.value_counts(normalize = True)\n"
      ],
      "id": "voAHo_fV6U2S"
    },
    {
      "cell_type": "code",
      "execution_count": 19,
      "metadata": {
        "id": "K20mZ6697UGc",
        "colab": {
          "base_uri": "https://localhost:8080/"
        },
        "outputId": "75711ad9-9cd1-48b7-85c7-6705f636aeb7"
      },
      "outputs": [
        {
          "output_type": "execute_result",
          "data": {
            "text/plain": [
              "9     0.326249\n",
              "10    0.221412\n",
              "13    0.167203\n",
              "14    0.053944\n",
              "11    0.043334\n",
              "7     0.034747\n",
              "12    0.033421\n",
              "6     0.027187\n",
              "4     0.018468\n",
              "15    0.017970\n",
              "5     0.015086\n",
              "8     0.012500\n",
              "16    0.012433\n",
              "3     0.009549\n",
              "2     0.005006\n",
              "1     0.001492\n",
              "Name: Education_num, dtype: float64"
            ]
          },
          "metadata": {},
          "execution_count": 19
        }
      ],
      "source": [
        "salary.Education_num.value_counts(normalize = True)"
      ],
      "id": "K20mZ6697UGc"
    },
    {
      "cell_type": "markdown",
      "metadata": {
        "id": "4hwfocer7fRx"
      },
      "source": [
        "From the above distribution of values it is very likely that education and education_num columns represent the same data, so the education column will be dropped. It also appears that they are many rare labels here."
      ],
      "id": "4hwfocer7fRx"
    },
    {
      "cell_type": "code",
      "execution_count": 20,
      "metadata": {
        "id": "rvzc8lm98Ynr"
      },
      "outputs": [],
      "source": [
        "salary.drop(['Education_num'], axis = 1, inplace = True)"
      ],
      "id": "rvzc8lm98Ynr"
    },
    {
      "cell_type": "code",
      "execution_count": 21,
      "metadata": {
        "id": "jkHTVUQ3XtAg",
        "colab": {
          "base_uri": "https://localhost:8080/"
        },
        "outputId": "57e338af-9f9e-44fa-c3d9-7eea74a09f0c"
      },
      "outputs": [
        {
          "output_type": "execute_result",
          "data": {
            "text/plain": [
              " HS-grad         0.326249\n",
              " Others          0.231193\n",
              " Some-college    0.221412\n",
              " Bachelors       0.167203\n",
              " Masters         0.053944\n",
              "Name: Education, dtype: float64"
            ]
          },
          "metadata": {},
          "execution_count": 21
        }
      ],
      "source": [
        "# Calculate the threshold for rare categories\n",
        "threshold = 0.05  # Set the threshold as 5% of the total rows\n",
        "\n",
        "# Get the value counts of 'Eduacation'\n",
        "value_counts = salary['Education'].value_counts(normalize=True)\n",
        "\n",
        "# Create a mask for rare categories based on the threshold\n",
        "rare_categories = value_counts[value_counts < threshold].index\n",
        "\n",
        "# Replace rare categories with 'Other'\n",
        "salary.loc[salary['Education'].isin(rare_categories), 'Education'] = ' Others'\n",
        "\n",
        "# Recalculate the value counts after combining rare categories\n",
        "salary['Education'].value_counts(normalize=True)"
      ],
      "id": "jkHTVUQ3XtAg"
    },
    {
      "cell_type": "code",
      "execution_count": 22,
      "metadata": {
        "id": "433bc74d-6a56-4f77-90be-7d848324ec94",
        "colab": {
          "base_uri": "https://localhost:8080/"
        },
        "outputId": "8ac6a709-a4d9-48f5-c6e2-f00fbbd5327c"
      },
      "outputs": [
        {
          "output_type": "execute_result",
          "data": {
            "text/plain": [
              " <=50K    0.751069\n",
              " >50K     0.248931\n",
              "Name: Salary, dtype: float64"
            ]
          },
          "metadata": {},
          "execution_count": 22
        }
      ],
      "source": [
        "# Check the distribution of the target variable\n",
        "salary[\"Salary\"].value_counts(normalize = True)"
      ],
      "id": "433bc74d-6a56-4f77-90be-7d848324ec94"
    },
    {
      "cell_type": "code",
      "execution_count": 23,
      "metadata": {
        "id": "7D9-uiIaQAWx",
        "colab": {
          "base_uri": "https://localhost:8080/"
        },
        "outputId": "e53bf655-071b-466d-d836-6bfc8f555241"
      },
      "outputs": [
        {
          "output_type": "stream",
          "name": "stdout",
          "text": [
            "0        0\n",
            "1        0\n",
            "2        0\n",
            "3        0\n",
            "4        0\n",
            "        ..\n",
            "32555    0\n",
            "32556    1\n",
            "32557    0\n",
            "32558    0\n",
            "32559    1\n",
            "Name: Salary, Length: 30161, dtype: int64\n"
          ]
        }
      ],
      "source": [
        "# Convert the target variable to numerics where data type to int\n",
        "# <=50K will be 0 and >50K will be 1\n",
        "salary['Salary'] = salary['Salary'].str.strip().replace({'<=50K': 0, '>50K': 1})\n",
        "print(salary['Salary'])"
      ],
      "id": "7D9-uiIaQAWx"
    },
    {
      "cell_type": "code",
      "execution_count": 24,
      "metadata": {
        "id": "BbGfTeo5qeWa",
        "colab": {
          "base_uri": "https://localhost:8080/",
          "height": 572
        },
        "outputId": "02c3c30d-58a6-47f1-86d3-93cb0b0b5903"
      },
      "outputs": [
        {
          "output_type": "display_data",
          "data": {
            "text/plain": [
              "<Figure size 640x480 with 2 Axes>"
            ],
            "image/png": "[encoded data removed]"
          },
          "metadata": {}
        }
      ],
      "source": [
        "#\n",
        "num_variable = [\n",
        "        \"Age\",\n",
        "        \"Final_weight\",\n",
        "        \"Capital_gain\",\n",
        "        \"Capital_loss\",\n",
        "        \"Hours_per_week\",\n",
        "    ]\n",
        "# Create a random correlation matrix\n",
        "corr_matrix = salary[num_variable].corr()\n",
        "\n",
        "# Plot the heatmap\n",
        "sns.heatmap(corr_matrix, annot=True, cmap='coolwarm')\n",
        "\n",
        "# Set labels and title\n",
        "plt.xlabel('Features')\n",
        "plt.ylabel('Features')\n",
        "plt.title('Correlation Heatmap')\n",
        "\n",
        "# Show the plot\n",
        "plt.show()"
      ],
      "id": "BbGfTeo5qeWa"
    },
    {
      "cell_type": "markdown",
      "metadata": {
        "id": "ixdqZQBHbauB"
      },
      "source": [
        "From the plot it can be seen that there are no correlations between any of the numeric coulmns."
      ],
      "id": "ixdqZQBHbauB"
    },
    {
      "cell_type": "code",
      "execution_count": 25,
      "metadata": {
        "id": "LmRD2r-CWq-V",
        "colab": {
          "base_uri": "https://localhost:8080/"
        },
        "outputId": "40d9b544-b92e-4f2b-ab9b-b8a9dcc5033d"
      },
      "outputs": [
        {
          "output_type": "stream",
          "name": "stdout",
          "text": [
            "Age               0.242000\n",
            "Final_weight     -0.008978\n",
            "Capital_gain      0.221200\n",
            "Capital_loss      0.150050\n",
            "Hours_per_week    0.229480\n",
            "dtype: float64\n"
          ]
        }
      ],
      "source": [
        "correl = salary[num_variable].corrwith(salary['Salary'])\n",
        "print(correl)"
      ],
      "id": "LmRD2r-CWq-V"
    },
    {
      "cell_type": "markdown",
      "metadata": {
        "id": "qORA5LyHbzIU"
      },
      "source": [
        "From the information above the numeric variable has no high correlation with the target variable, that is the salary column."
      ],
      "id": "qORA5LyHbzIU"
    },
    {
      "cell_type": "code",
      "execution_count": 26,
      "metadata": {
        "id": "xOOzJx12a7Ke",
        "colab": {
          "base_uri": "https://localhost:8080/",
          "height": 300
        },
        "outputId": "ffbc24d6-9e1d-42fc-dd4c-03877d3e5e8f"
      },
      "outputs": [
        {
          "output_type": "execute_result",
          "data": {
            "text/plain": [
              "                Age  Final_weight  Capital_gain  Capital_loss  Hours_per_week  \\\n",
              "count  30161.000000  3.016100e+04  30161.000000  30161.000000    30161.000000   \n",
              "mean      38.437883  1.897976e+05   1091.971984     88.375419       40.931269   \n",
              "std       13.134882  1.056527e+05   7406.466659    404.304753       11.980182   \n",
              "min       17.000000  1.376900e+04      0.000000      0.000000        1.000000   \n",
              "25%       28.000000  1.176280e+05      0.000000      0.000000       40.000000   \n",
              "50%       37.000000  1.784290e+05      0.000000      0.000000       40.000000   \n",
              "75%       47.000000  2.376300e+05      0.000000      0.000000       45.000000   \n",
              "max       90.000000  1.484705e+06  99999.000000   4356.000000       99.000000   \n",
              "\n",
              "             Salary  \n",
              "count  30161.000000  \n",
              "mean       0.248931  \n",
              "std        0.432401  \n",
              "min        0.000000  \n",
              "25%        0.000000  \n",
              "50%        0.000000  \n",
              "75%        0.000000  \n",
              "max        1.000000  "
            ],
            "text/html": [
              "\n",
              "\n",
              "  <div id=\"df-cdf4817a-5c75-4eb0-a18b-095dcc6a1ec1\">\n",
              "    <div class=\"colab-df-container\">\n",
              "      <div>\n",
              "<style scoped>\n",
              "    .dataframe tbody tr th:only-of-type {\n",
              "        vertical-align: middle;\n",
              "    }\n",
              "\n",
              "    .dataframe tbody tr th {\n",
              "        vertical-align: top;\n",
              "    }\n",
              "\n",
              "    .dataframe thead th {\n",
              "        text-align: right;\n",
              "    }\n",
              "</style>\n",
              "<table border=\"1\" class=\"dataframe\">\n",
              "  <thead>\n",
              "    <tr style=\"text-align: right;\">\n",
              "      <th></th>\n",
              "      <th>Age</th>\n",
              "      <th>Final_weight</th>\n",
              "      <th>Capital_gain</th>\n",
              "      <th>Capital_loss</th>\n",
              "      <th>Hours_per_week</th>\n",
              "      <th>Salary</th>\n",
              "    </tr>\n",
              "  </thead>\n",
              "  <tbody>\n",
              "    <tr>\n",
              "      <th>count</th>\n",
              "      <td>30161.000000</td>\n",
              "      <td>3.016100e+04</td>\n",
              "      <td>30161.000000</td>\n",
              "      <td>30161.000000</td>\n",
              "      <td>30161.000000</td>\n",
              "      <td>30161.000000</td>\n",
              "    </tr>\n",
              "    <tr>\n",
              "      <th>mean</th>\n",
              "      <td>38.437883</td>\n",
              "      <td>1.897976e+05</td>\n",
              "      <td>1091.971984</td>\n",
              "      <td>88.375419</td>\n",
              "      <td>40.931269</td>\n",
              "      <td>0.248931</td>\n",
              "    </tr>\n",
              "    <tr>\n",
              "      <th>std</th>\n",
              "      <td>13.134882</td>\n",
              "      <td>1.056527e+05</td>\n",
              "      <td>7406.466659</td>\n",
              "      <td>404.304753</td>\n",
              "      <td>11.980182</td>\n",
              "      <td>0.432401</td>\n",
              "    </tr>\n",
              "    <tr>\n",
              "      <th>min</th>\n",
              "      <td>17.000000</td>\n",
              "      <td>1.376900e+04</td>\n",
              "      <td>0.000000</td>\n",
              "      <td>0.000000</td>\n",
              "      <td>1.000000</td>\n",
              "      <td>0.000000</td>\n",
              "    </tr>\n",
              "    <tr>\n",
              "      <th>25%</th>\n",
              "      <td>28.000000</td>\n",
              "      <td>1.176280e+05</td>\n",
              "      <td>0.000000</td>\n",
              "      <td>0.000000</td>\n",
              "      <td>40.000000</td>\n",
              "      <td>0.000000</td>\n",
              "    </tr>\n",
              "    <tr>\n",
              "      <th>50%</th>\n",
              "      <td>37.000000</td>\n",
              "      <td>1.784290e+05</td>\n",
              "      <td>0.000000</td>\n",
              "      <td>0.000000</td>\n",
              "      <td>40.000000</td>\n",
              "      <td>0.000000</td>\n",
              "    </tr>\n",
              "    <tr>\n",
              "      <th>75%</th>\n",
              "      <td>47.000000</td>\n",
              "      <td>2.376300e+05</td>\n",
              "      <td>0.000000</td>\n",
              "      <td>0.000000</td>\n",
              "      <td>45.000000</td>\n",
              "      <td>0.000000</td>\n",
              "    </tr>\n",
              "    <tr>\n",
              "      <th>max</th>\n",
              "      <td>90.000000</td>\n",
              "      <td>1.484705e+06</td>\n",
              "      <td>99999.000000</td>\n",
              "      <td>4356.000000</td>\n",
              "      <td>99.000000</td>\n",
              "      <td>1.000000</td>\n",
              "    </tr>\n",
              "  </tbody>\n",
              "</table>\n",
              "</div>\n",
              "      <button class=\"colab-df-convert\" onclick=\"convertToInteractive('df-cdf4817a-5c75-4eb0-a18b-095dcc6a1ec1')\"\n",
              "              title=\"Convert this dataframe to an interactive table.\"\n",
              "              style=\"display:none;\">\n",
              "\n",
              "  <svg xmlns=\"http://www.w3.org/2000/svg\" height=\"24px\"viewBox=\"0 0 24 24\"\n",
              "       width=\"24px\">\n",
              "    <path d=\"M0 0h24v24H0V0z\" fill=\"none\"/>\n",
              "    <path d=\"M18.56 5.44l.94 2.06.94-2.06 2.06-.94-2.06-.94-.94-2.06-.94 2.06-2.06.94zm-11 1L8.5 8.5l.94-2.06 2.06-.94-2.06-.94L8.5 2.5l-.94 2.06-2.06.94zm10 10l.94 2.06.94-2.06 2.06-.94-2.06-.94-.94-2.06-.94 2.06-2.06.94z\"/><path d=\"M17.41 7.96l-1.37-1.37c-.4-.4-.92-.59-1.43-.59-.52 0-1.04.2-1.43.59L10.3 9.45l-7.72 7.72c-.78.78-.78 2.05 0 2.83L4 21.41c.39.39.9.59 1.41.59.51 0 1.02-.2 1.41-.59l7.78-7.78 2.81-2.81c.8-.78.8-2.07 0-2.86zM5.41 20L4 18.59l7.72-7.72 1.47 1.35L5.41 20z\"/>\n",
              "  </svg>\n",
              "      </button>\n",
              "\n",
              "\n",
              "\n",
              "    <div id=\"df-f60d2ed0-c505-4d44-b173-8750868e3e52\">\n",
              "      <button class=\"colab-df-quickchart\" onclick=\"quickchart('df-f60d2ed0-c505-4d44-b173-8750868e3e52')\"\n",
              "              title=\"Suggest charts.\"\n",
              "              style=\"display:none;\">\n",
              "\n",
              "<svg xmlns=\"http://www.w3.org/2000/svg\" height=\"24px\"viewBox=\"0 0 24 24\"\n",
              "     width=\"24px\">\n",
              "    <g>\n",
              "        <path d=\"M19 3H5c-1.1 0-2 .9-2 2v14c0 1.1.9 2 2 2h14c1.1 0 2-.9 2-2V5c0-1.1-.9-2-2-2zM9 17H7v-7h2v7zm4 0h-2V7h2v10zm4 0h-2v-4h2v4z\"/>\n",
              "    </g>\n",
              "</svg>\n",
              "      </button>\n",
              "    </div>\n",
              "\n",
              "<style>\n",
              "  .colab-df-quickchart {\n",
              "    background-color: #E8F0FE;\n",
              "    border: none;\n",
              "    border-radius: 50%;\n",
              "    cursor: pointer;\n",
              "    display: none;\n",
              "    fill: #1967D2;\n",
              "    height: 32px;\n",
              "    padding: 0 0 0 0;\n",
              "    width: 32px;\n",
              "  }\n",
              "\n",
              "  .colab-df-quickchart:hover {\n",
              "    background-color: #E2EBFA;\n",
              "    box-shadow: 0px 1px 2px rgba(60, 64, 67, 0.3), 0px 1px 3px 1px rgba(60, 64, 67, 0.15);\n",
              "    fill: #174EA6;\n",
              "  }\n",
              "\n",
              "  [theme=dark] .colab-df-quickchart {\n",
              "    background-color: #3B4455;\n",
              "    fill: #D2E3FC;\n",
              "  }\n",
              "\n",
              "  [theme=dark] .colab-df-quickchart:hover {\n",
              "    background-color: #434B5C;\n",
              "    box-shadow: 0px 1px 3px 1px rgba(0, 0, 0, 0.15);\n",
              "    filter: drop-shadow(0px 1px 2px rgba(0, 0, 0, 0.3));\n",
              "    fill: #FFFFFF;\n",
              "  }\n",
              "</style>\n",
              "\n",
              "    <script>\n",
              "      async function quickchart(key) {\n",
              "        const containerElement = document.querySelector('#' + key);\n",
              "        const charts = await google.colab.kernel.invokeFunction(\n",
              "            'suggestCharts', [key], {});\n",
              "      }\n",
              "    </script>\n",
              "\n",
              "      <script>\n",
              "\n",
              "function displayQuickchartButton(domScope) {\n",
              "  let quickchartButtonEl =\n",
              "    domScope.querySelector('#df-f60d2ed0-c505-4d44-b173-8750868e3e52 button.colab-df-quickchart');\n",
              "  quickchartButtonEl.style.display =\n",
              "    google.colab.kernel.accessAllowed ? 'block' : 'none';\n",
              "}\n",
              "\n",
              "        displayQuickchartButton(document);\n",
              "      </script>\n",
              "      <style>\n",
              "    .colab-df-container {\n",
              "      display:flex;\n",
              "      flex-wrap:wrap;\n",
              "      gap: 12px;\n",
              "    }\n",
              "\n",
              "    .colab-df-convert {\n",
              "      background-color: #E8F0FE;\n",
              "      border: none;\n",
              "      border-radius: 50%;\n",
              "      cursor: pointer;\n",
              "      display: none;\n",
              "      fill: #1967D2;\n",
              "      height: 32px;\n",
              "      padding: 0 0 0 0;\n",
              "      width: 32px;\n",
              "    }\n",
              "\n",
              "    .colab-df-convert:hover {\n",
              "      background-color: #E2EBFA;\n",
              "      box-shadow: 0px 1px 2px rgba(60, 64, 67, 0.3), 0px 1px 3px 1px rgba(60, 64, 67, 0.15);\n",
              "      fill: #174EA6;\n",
              "    }\n",
              "\n",
              "    [theme=dark] .colab-df-convert {\n",
              "      background-color: #3B4455;\n",
              "      fill: #D2E3FC;\n",
              "    }\n",
              "\n",
              "    [theme=dark] .colab-df-convert:hover {\n",
              "      background-color: #434B5C;\n",
              "      box-shadow: 0px 1px 3px 1px rgba(0, 0, 0, 0.15);\n",
              "      filter: drop-shadow(0px 1px 2px rgba(0, 0, 0, 0.3));\n",
              "      fill: #FFFFFF;\n",
              "    }\n",
              "  </style>\n",
              "\n",
              "      <script>\n",
              "        const buttonEl =\n",
              "          document.querySelector('#df-cdf4817a-5c75-4eb0-a18b-095dcc6a1ec1 button.colab-df-convert');\n",
              "        buttonEl.style.display =\n",
              "          google.colab.kernel.accessAllowed ? 'block' : 'none';\n",
              "\n",
              "        async function convertToInteractive(key) {\n",
              "          const element = document.querySelector('#df-cdf4817a-5c75-4eb0-a18b-095dcc6a1ec1');\n",
              "          const dataTable =\n",
              "            await google.colab.kernel.invokeFunction('convertToInteractive',\n",
              "                                                     [key], {});\n",
              "          if (!dataTable) return;\n",
              "\n",
              "          const docLinkHtml = 'Like what you see? Visit the ' +\n",
              "            '<a target=\"_blank\" href=https://colab.research.google.com/notebooks/data_table.ipynb>data table notebook</a>'\n",
              "            + ' to learn more about interactive tables.';\n",
              "          element.innerHTML = '';\n",
              "          dataTable['output_type'] = 'display_data';\n",
              "          await google.colab.output.renderOutput(dataTable, element);\n",
              "          const docLink = document.createElement('div');\n",
              "          docLink.innerHTML = docLinkHtml;\n",
              "          element.appendChild(docLink);\n",
              "        }\n",
              "      </script>\n",
              "    </div>\n",
              "  </div>\n"
            ]
          },
          "metadata": {},
          "execution_count": 26
        }
      ],
      "source": [
        "salary.describe()"
      ],
      "id": "xOOzJx12a7Ke"
    },
    {
      "cell_type": "code",
      "execution_count": 27,
      "metadata": {
        "id": "CzwJT5aA144x",
        "colab": {
          "base_uri": "https://localhost:8080/",
          "height": 1000
        },
        "outputId": "0301156f-f568-4daa-e678-7ab42f7ea82e"
      },
      "outputs": [
        {
          "output_type": "display_data",
          "data": {
            "text/plain": [
              "<Figure size 400x2000 with 5 Axes>"
            ],
            "image/png": "[encoded data removed]"
          },
          "metadata": {}
        }
      ],
      "source": [
        "# Function to plot box plots of different columns\n",
        "def plot_boxplots(df):\n",
        "\n",
        "    # Create subplots for each column\n",
        "    fig, axes = plt.subplots(nrows=len(num_variable), figsize=(4, 4 * len(num_variable)))\n",
        "\n",
        "    # Iterate over columns and plot box plots\n",
        "    for i, col in enumerate(num_variable):\n",
        "        ax = axes[i] if len(num_variable) > 1 else axes  # Handle single subplot case\n",
        "        ax.boxplot(df[col])\n",
        "        ax.set_title(f'Box of {col}')\n",
        "\n",
        "    # Adjust spacing between subplots\n",
        "    plt.tight_layout()\n",
        "\n",
        "# Call the function to plot box plots of columns\n",
        "plot_boxplots(salary)\n",
        "plt.show()\n",
        "\n"
      ],
      "id": "CzwJT5aA144x"
    },
    {
      "cell_type": "markdown",
      "metadata": {
        "id": "8INKAAJohjpB"
      },
      "source": [
        "From the box plots above, it can be seen that the Age, Final_weight, Capital_gain, Capital_loss, Hours_per_week columns all have lots of outliers and the Eduaction_num column is a right-skewed distribution."
      ],
      "id": "8INKAAJohjpB"
    },
    {
      "cell_type": "code",
      "execution_count": 28,
      "metadata": {
        "id": "8d97d88b-8965-4006-9778-5a49bd519fbe",
        "colab": {
          "base_uri": "https://localhost:8080/",
          "height": 305
        },
        "outputId": "92e2981d-c10c-46da-fcc7-31863284ef20"
      },
      "outputs": [
        {
          "output_type": "execute_result",
          "data": {
            "text/plain": [
              "   Age  Final_weight  Capital_gain  Capital_loss  Hours_per_week  Salary  \\\n",
              "0   50         83311             0             0              13       0   \n",
              "1   38        215646             0             0              40       0   \n",
              "2   53        234721             0             0              40       0   \n",
              "3   28        338409             0             0              40       0   \n",
              "4   37        284582             0             0              40       0   \n",
              "\n",
              "   Workclass_ Others  Workclass_ Private  Education_ Bachelors  \\\n",
              "0                  1                   0                     1   \n",
              "1                  0                   1                     0   \n",
              "2                  0                   1                     0   \n",
              "3                  0                   1                     1   \n",
              "4                  0                   1                     0   \n",
              "\n",
              "   Education_ HS-grad  Education_ Masters  Education_ Others  \\\n",
              "0                   0                   0                  0   \n",
              "1                   1                   0                  0   \n",
              "2                   0                   0                  1   \n",
              "3                   0                   0                  0   \n",
              "4                   0                   1                  0   \n",
              "\n",
              "   Education_ Some-college  Marital_status_ Divorced  \\\n",
              "0                        0                         0   \n",
              "1                        0                         1   \n",
              "2                        0                         0   \n",
              "3                        0                         0   \n",
              "4                        0                         0   \n",
              "\n",
              "   Marital_status_ Married-civ-spouse  Marital_status_ Never-married  \\\n",
              "0                                   1                              0   \n",
              "1                                   0                              0   \n",
              "2                                   1                              0   \n",
              "3                                   1                              0   \n",
              "4                                   1                              0   \n",
              "\n",
              "   Marital_status_ Separated  Marital_status_ Widowed  Race_ Others  \\\n",
              "0                          0                        0             0   \n",
              "1                          0                        0             0   \n",
              "2                          0                        0             1   \n",
              "3                          0                        0             1   \n",
              "4                          0                        0             0   \n",
              "\n",
              "   Race_ White  Relationship_ Husband  Relationship_ Not-in-family  \\\n",
              "0            1                      1                            0   \n",
              "1            1                      0                            1   \n",
              "2            0                      1                            0   \n",
              "3            0                      0                            0   \n",
              "4            1                      0                            0   \n",
              "\n",
              "   Relationship_ Other-relative  Relationship_ Own-child  \\\n",
              "0                             0                        0   \n",
              "1                             0                        0   \n",
              "2                             0                        0   \n",
              "3                             0                        0   \n",
              "4                             0                        0   \n",
              "\n",
              "   Relationship_ Unmarried  Relationship_ Wife  Occupation_ Adm-clerical  \\\n",
              "0                        0                   0                         0   \n",
              "1                        0                   0                         0   \n",
              "2                        0                   0                         0   \n",
              "3                        0                   1                         0   \n",
              "4                        0                   1                         0   \n",
              "\n",
              "   Occupation_ Armed-Forces  Occupation_ Craft-repair  \\\n",
              "0                         0                         0   \n",
              "1                         0                         0   \n",
              "2                         0                         0   \n",
              "3                         0                         0   \n",
              "4                         0                         0   \n",
              "\n",
              "   Occupation_ Exec-managerial  Occupation_ Farming-fishing  \\\n",
              "0                            1                            0   \n",
              "1                            0                            0   \n",
              "2                            0                            0   \n",
              "3                            0                            0   \n",
              "4                            1                            0   \n",
              "\n",
              "   Occupation_ Handlers-cleaners  Occupation_ Machine-op-inspct  \\\n",
              "0                              0                              0   \n",
              "1                              1                              0   \n",
              "2                              1                              0   \n",
              "3                              0                              0   \n",
              "4                              0                              0   \n",
              "\n",
              "   Occupation_ Other-service  Occupation_ Priv-house-serv  \\\n",
              "0                          0                            0   \n",
              "1                          0                            0   \n",
              "2                          0                            0   \n",
              "3                          0                            0   \n",
              "4                          0                            0   \n",
              "\n",
              "   Occupation_ Prof-specialty  Occupation_ Protective-serv  Occupation_ Sales  \\\n",
              "0                           0                            0                  0   \n",
              "1                           0                            0                  0   \n",
              "2                           0                            0                  0   \n",
              "3                           1                            0                  0   \n",
              "4                           0                            0                  0   \n",
              "\n",
              "   Occupation_ Tech-support  Occupation_ Transport-moving  Sex_ Female  \\\n",
              "0                         0                             0            0   \n",
              "1                         0                             0            0   \n",
              "2                         0                             0            0   \n",
              "3                         0                             0            1   \n",
              "4                         0                             0            1   \n",
              "\n",
              "   Sex_ Male  Country_ Outside-Us  Country_ United-States  \n",
              "0          1                    0                       1  \n",
              "1          1                    0                       1  \n",
              "2          1                    0                       1  \n",
              "3          0                    1                       0  \n",
              "4          0                    0                       1  "
            ],
            "text/html": [
              "\n",
              "\n",
              "  <div id=\"df-d13b442f-3a21-4abc-88cc-e99c38e3a256\">\n",
              "    <div class=\"colab-df-container\">\n",
              "      <div>\n",
              "<style scoped>\n",
              "    .dataframe tbody tr th:only-of-type {\n",
              "        vertical-align: middle;\n",
              "    }\n",
              "\n",
              "    .dataframe tbody tr th {\n",
              "        vertical-align: top;\n",
              "    }\n",
              "\n",
              "    .dataframe thead th {\n",
              "        text-align: right;\n",
              "    }\n",
              "</style>\n",
              "<table border=\"1\" class=\"dataframe\">\n",
              "  <thead>\n",
              "    <tr style=\"text-align: right;\">\n",
              "      <th></th>\n",
              "      <th>Age</th>\n",
              "      <th>Final_weight</th>\n",
              "      <th>Capital_gain</th>\n",
              "      <th>Capital_loss</th>\n",
              "      <th>Hours_per_week</th>\n",
              "      <th>Salary</th>\n",
              "      <th>Workclass_ Others</th>\n",
              "      <th>Workclass_ Private</th>\n",
              "      <th>Education_ Bachelors</th>\n",
              "      <th>Education_ HS-grad</th>\n",
              "      <th>Education_ Masters</th>\n",
              "      <th>Education_ Others</th>\n",
              "      <th>Education_ Some-college</th>\n",
              "      <th>Marital_status_ Divorced</th>\n",
              "      <th>Marital_status_ Married-civ-spouse</th>\n",
              "      <th>Marital_status_ Never-married</th>\n",
              "      <th>Marital_status_ Separated</th>\n",
              "      <th>Marital_status_ Widowed</th>\n",
              "      <th>Race_ Others</th>\n",
              "      <th>Race_ White</th>\n",
              "      <th>Relationship_ Husband</th>\n",
              "      <th>Relationship_ Not-in-family</th>\n",
              "      <th>Relationship_ Other-relative</th>\n",
              "      <th>Relationship_ Own-child</th>\n",
              "      <th>Relationship_ Unmarried</th>\n",
              "      <th>Relationship_ Wife</th>\n",
              "      <th>Occupation_ Adm-clerical</th>\n",
              "      <th>Occupation_ Armed-Forces</th>\n",
              "      <th>Occupation_ Craft-repair</th>\n",
              "      <th>Occupation_ Exec-managerial</th>\n",
              "      <th>Occupation_ Farming-fishing</th>\n",
              "      <th>Occupation_ Handlers-cleaners</th>\n",
              "      <th>Occupation_ Machine-op-inspct</th>\n",
              "      <th>Occupation_ Other-service</th>\n",
              "      <th>Occupation_ Priv-house-serv</th>\n",
              "      <th>Occupation_ Prof-specialty</th>\n",
              "      <th>Occupation_ Protective-serv</th>\n",
              "      <th>Occupation_ Sales</th>\n",
              "      <th>Occupation_ Tech-support</th>\n",
              "      <th>Occupation_ Transport-moving</th>\n",
              "      <th>Sex_ Female</th>\n",
              "      <th>Sex_ Male</th>\n",
              "      <th>Country_ Outside-Us</th>\n",
              "      <th>Country_ United-States</th>\n",
              "    </tr>\n",
              "  </thead>\n",
              "  <tbody>\n",
              "    <tr>\n",
              "      <th>0</th>\n",
              "      <td>50</td>\n",
              "      <td>83311</td>\n",
              "      <td>0</td>\n",
              "      <td>0</td>\n",
              "      <td>13</td>\n",
              "      <td>0</td>\n",
              "      <td>1</td>\n",
              "      <td>0</td>\n",
              "      <td>1</td>\n",
              "      <td>0</td>\n",
              "      <td>0</td>\n",
              "      <td>0</td>\n",
              "      <td>0</td>\n",
              "      <td>0</td>\n",
              "      <td>1</td>\n",
              "      <td>0</td>\n",
              "      <td>0</td>\n",
              "      <td>0</td>\n",
              "      <td>0</td>\n",
              "      <td>1</td>\n",
              "      <td>1</td>\n",
              "      <td>0</td>\n",
              "      <td>0</td>\n",
              "      <td>0</td>\n",
              "      <td>0</td>\n",
              "      <td>0</td>\n",
              "      <td>0</td>\n",
              "      <td>0</td>\n",
              "      <td>0</td>\n",
              "      <td>1</td>\n",
              "      <td>0</td>\n",
              "      <td>0</td>\n",
              "      <td>0</td>\n",
              "      <td>0</td>\n",
              "      <td>0</td>\n",
              "      <td>0</td>\n",
              "      <td>0</td>\n",
              "      <td>0</td>\n",
              "      <td>0</td>\n",
              "      <td>0</td>\n",
              "      <td>0</td>\n",
              "      <td>1</td>\n",
              "      <td>0</td>\n",
              "      <td>1</td>\n",
              "    </tr>\n",
              "    <tr>\n",
              "      <th>1</th>\n",
              "      <td>38</td>\n",
              "      <td>215646</td>\n",
              "      <td>0</td>\n",
              "      <td>0</td>\n",
              "      <td>40</td>\n",
              "      <td>0</td>\n",
              "      <td>0</td>\n",
              "      <td>1</td>\n",
              "      <td>0</td>\n",
              "      <td>1</td>\n",
              "      <td>0</td>\n",
              "      <td>0</td>\n",
              "      <td>0</td>\n",
              "      <td>1</td>\n",
              "      <td>0</td>\n",
              "      <td>0</td>\n",
              "      <td>0</td>\n",
              "      <td>0</td>\n",
              "      <td>0</td>\n",
              "      <td>1</td>\n",
              "      <td>0</td>\n",
              "      <td>1</td>\n",
              "      <td>0</td>\n",
              "      <td>0</td>\n",
              "      <td>0</td>\n",
              "      <td>0</td>\n",
              "      <td>0</td>\n",
              "      <td>0</td>\n",
              "      <td>0</td>\n",
              "      <td>0</td>\n",
              "      <td>0</td>\n",
              "      <td>1</td>\n",
              "      <td>0</td>\n",
              "      <td>0</td>\n",
              "      <td>0</td>\n",
              "      <td>0</td>\n",
              "      <td>0</td>\n",
              "      <td>0</td>\n",
              "      <td>0</td>\n",
              "      <td>0</td>\n",
              "      <td>0</td>\n",
              "      <td>1</td>\n",
              "      <td>0</td>\n",
              "      <td>1</td>\n",
              "    </tr>\n",
              "    <tr>\n",
              "      <th>2</th>\n",
              "      <td>53</td>\n",
              "      <td>234721</td>\n",
              "      <td>0</td>\n",
              "      <td>0</td>\n",
              "      <td>40</td>\n",
              "      <td>0</td>\n",
              "      <td>0</td>\n",
              "      <td>1</td>\n",
              "      <td>0</td>\n",
              "      <td>0</td>\n",
              "      <td>0</td>\n",
              "      <td>1</td>\n",
              "      <td>0</td>\n",
              "      <td>0</td>\n",
              "      <td>1</td>\n",
              "      <td>0</td>\n",
              "      <td>0</td>\n",
              "      <td>0</td>\n",
              "      <td>1</td>\n",
              "      <td>0</td>\n",
              "      <td>1</td>\n",
              "      <td>0</td>\n",
              "      <td>0</td>\n",
              "      <td>0</td>\n",
              "      <td>0</td>\n",
              "      <td>0</td>\n",
              "      <td>0</td>\n",
              "      <td>0</td>\n",
              "      <td>0</td>\n",
              "      <td>0</td>\n",
              "      <td>0</td>\n",
              "      <td>1</td>\n",
              "      <td>0</td>\n",
              "      <td>0</td>\n",
              "      <td>0</td>\n",
              "      <td>0</td>\n",
              "      <td>0</td>\n",
              "      <td>0</td>\n",
              "      <td>0</td>\n",
              "      <td>0</td>\n",
              "      <td>0</td>\n",
              "      <td>1</td>\n",
              "      <td>0</td>\n",
              "      <td>1</td>\n",
              "    </tr>\n",
              "    <tr>\n",
              "      <th>3</th>\n",
              "      <td>28</td>\n",
              "      <td>338409</td>\n",
              "      <td>0</td>\n",
              "      <td>0</td>\n",
              "      <td>40</td>\n",
              "      <td>0</td>\n",
              "      <td>0</td>\n",
              "      <td>1</td>\n",
              "      <td>1</td>\n",
              "      <td>0</td>\n",
              "      <td>0</td>\n",
              "      <td>0</td>\n",
              "      <td>0</td>\n",
              "      <td>0</td>\n",
              "      <td>1</td>\n",
              "      <td>0</td>\n",
              "      <td>0</td>\n",
              "      <td>0</td>\n",
              "      <td>1</td>\n",
              "      <td>0</td>\n",
              "      <td>0</td>\n",
              "      <td>0</td>\n",
              "      <td>0</td>\n",
              "      <td>0</td>\n",
              "      <td>0</td>\n",
              "      <td>1</td>\n",
              "      <td>0</td>\n",
              "      <td>0</td>\n",
              "      <td>0</td>\n",
              "      <td>0</td>\n",
              "      <td>0</td>\n",
              "      <td>0</td>\n",
              "      <td>0</td>\n",
              "      <td>0</td>\n",
              "      <td>0</td>\n",
              "      <td>1</td>\n",
              "      <td>0</td>\n",
              "      <td>0</td>\n",
              "      <td>0</td>\n",
              "      <td>0</td>\n",
              "      <td>1</td>\n",
              "      <td>0</td>\n",
              "      <td>1</td>\n",
              "      <td>0</td>\n",
              "    </tr>\n",
              "    <tr>\n",
              "      <th>4</th>\n",
              "      <td>37</td>\n",
              "      <td>284582</td>\n",
              "      <td>0</td>\n",
              "      <td>0</td>\n",
              "      <td>40</td>\n",
              "      <td>0</td>\n",
              "      <td>0</td>\n",
              "      <td>1</td>\n",
              "      <td>0</td>\n",
              "      <td>0</td>\n",
              "      <td>1</td>\n",
              "      <td>0</td>\n",
              "      <td>0</td>\n",
              "      <td>0</td>\n",
              "      <td>1</td>\n",
              "      <td>0</td>\n",
              "      <td>0</td>\n",
              "      <td>0</td>\n",
              "      <td>0</td>\n",
              "      <td>1</td>\n",
              "      <td>0</td>\n",
              "      <td>0</td>\n",
              "      <td>0</td>\n",
              "      <td>0</td>\n",
              "      <td>0</td>\n",
              "      <td>1</td>\n",
              "      <td>0</td>\n",
              "      <td>0</td>\n",
              "      <td>0</td>\n",
              "      <td>1</td>\n",
              "      <td>0</td>\n",
              "      <td>0</td>\n",
              "      <td>0</td>\n",
              "      <td>0</td>\n",
              "      <td>0</td>\n",
              "      <td>0</td>\n",
              "      <td>0</td>\n",
              "      <td>0</td>\n",
              "      <td>0</td>\n",
              "      <td>0</td>\n",
              "      <td>1</td>\n",
              "      <td>0</td>\n",
              "      <td>0</td>\n",
              "      <td>1</td>\n",
              "    </tr>\n",
              "  </tbody>\n",
              "</table>\n",
              "</div>\n",
              "      <button class=\"colab-df-convert\" onclick=\"convertToInteractive('df-d13b442f-3a21-4abc-88cc-e99c38e3a256')\"\n",
              "              title=\"Convert this dataframe to an interactive table.\"\n",
              "              style=\"display:none;\">\n",
              "\n",
              "  <svg xmlns=\"http://www.w3.org/2000/svg\" height=\"24px\"viewBox=\"0 0 24 24\"\n",
              "       width=\"24px\">\n",
              "    <path d=\"M0 0h24v24H0V0z\" fill=\"none\"/>\n",
              "    <path d=\"M18.56 5.44l.94 2.06.94-2.06 2.06-.94-2.06-.94-.94-2.06-.94 2.06-2.06.94zm-11 1L8.5 8.5l.94-2.06 2.06-.94-2.06-.94L8.5 2.5l-.94 2.06-2.06.94zm10 10l.94 2.06.94-2.06 2.06-.94-2.06-.94-.94-2.06-.94 2.06-2.06.94z\"/><path d=\"M17.41 7.96l-1.37-1.37c-.4-.4-.92-.59-1.43-.59-.52 0-1.04.2-1.43.59L10.3 9.45l-7.72 7.72c-.78.78-.78 2.05 0 2.83L4 21.41c.39.39.9.59 1.41.59.51 0 1.02-.2 1.41-.59l7.78-7.78 2.81-2.81c.8-.78.8-2.07 0-2.86zM5.41 20L4 18.59l7.72-7.72 1.47 1.35L5.41 20z\"/>\n",
              "  </svg>\n",
              "      </button>\n",
              "\n",
              "\n",
              "\n",
              "    <div id=\"df-d3bc0674-d03b-4429-a827-9d4736537db9\">\n",
              "      <button class=\"colab-df-quickchart\" onclick=\"quickchart('df-d3bc0674-d03b-4429-a827-9d4736537db9')\"\n",
              "              title=\"Suggest charts.\"\n",
              "              style=\"display:none;\">\n",
              "\n",
              "<svg xmlns=\"http://www.w3.org/2000/svg\" height=\"24px\"viewBox=\"0 0 24 24\"\n",
              "     width=\"24px\">\n",
              "    <g>\n",
              "        <path d=\"M19 3H5c-1.1 0-2 .9-2 2v14c0 1.1.9 2 2 2h14c1.1 0 2-.9 2-2V5c0-1.1-.9-2-2-2zM9 17H7v-7h2v7zm4 0h-2V7h2v10zm4 0h-2v-4h2v4z\"/>\n",
              "    </g>\n",
              "</svg>\n",
              "      </button>\n",
              "    </div>\n",
              "\n",
              "<style>\n",
              "  .colab-df-quickchart {\n",
              "    background-color: #E8F0FE;\n",
              "    border: none;\n",
              "    border-radius: 50%;\n",
              "    cursor: pointer;\n",
              "    display: none;\n",
              "    fill: #1967D2;\n",
              "    height: 32px;\n",
              "    padding: 0 0 0 0;\n",
              "    width: 32px;\n",
              "  }\n",
              "\n",
              "  .colab-df-quickchart:hover {\n",
              "    background-color: #E2EBFA;\n",
              "    box-shadow: 0px 1px 2px rgba(60, 64, 67, 0.3), 0px 1px 3px 1px rgba(60, 64, 67, 0.15);\n",
              "    fill: #174EA6;\n",
              "  }\n",
              "\n",
              "  [theme=dark] .colab-df-quickchart {\n",
              "    background-color: #3B4455;\n",
              "    fill: #D2E3FC;\n",
              "  }\n",
              "\n",
              "  [theme=dark] .colab-df-quickchart:hover {\n",
              "    background-color: #434B5C;\n",
              "    box-shadow: 0px 1px 3px 1px rgba(0, 0, 0, 0.15);\n",
              "    filter: drop-shadow(0px 1px 2px rgba(0, 0, 0, 0.3));\n",
              "    fill: #FFFFFF;\n",
              "  }\n",
              "</style>\n",
              "\n",
              "    <script>\n",
              "      async function quickchart(key) {\n",
              "        const containerElement = document.querySelector('#' + key);\n",
              "        const charts = await google.colab.kernel.invokeFunction(\n",
              "            'suggestCharts', [key], {});\n",
              "      }\n",
              "    </script>\n",
              "\n",
              "      <script>\n",
              "\n",
              "function displayQuickchartButton(domScope) {\n",
              "  let quickchartButtonEl =\n",
              "    domScope.querySelector('#df-d3bc0674-d03b-4429-a827-9d4736537db9 button.colab-df-quickchart');\n",
              "  quickchartButtonEl.style.display =\n",
              "    google.colab.kernel.accessAllowed ? 'block' : 'none';\n",
              "}\n",
              "\n",
              "        displayQuickchartButton(document);\n",
              "      </script>\n",
              "      <style>\n",
              "    .colab-df-container {\n",
              "      display:flex;\n",
              "      flex-wrap:wrap;\n",
              "      gap: 12px;\n",
              "    }\n",
              "\n",
              "    .colab-df-convert {\n",
              "      background-color: #E8F0FE;\n",
              "      border: none;\n",
              "      border-radius: 50%;\n",
              "      cursor: pointer;\n",
              "      display: none;\n",
              "      fill: #1967D2;\n",
              "      height: 32px;\n",
              "      padding: 0 0 0 0;\n",
              "      width: 32px;\n",
              "    }\n",
              "\n",
              "    .colab-df-convert:hover {\n",
              "      background-color: #E2EBFA;\n",
              "      box-shadow: 0px 1px 2px rgba(60, 64, 67, 0.3), 0px 1px 3px 1px rgba(60, 64, 67, 0.15);\n",
              "      fill: #174EA6;\n",
              "    }\n",
              "\n",
              "    [theme=dark] .colab-df-convert {\n",
              "      background-color: #3B4455;\n",
              "      fill: #D2E3FC;\n",
              "    }\n",
              "\n",
              "    [theme=dark] .colab-df-convert:hover {\n",
              "      background-color: #434B5C;\n",
              "      box-shadow: 0px 1px 3px 1px rgba(0, 0, 0, 0.15);\n",
              "      filter: drop-shadow(0px 1px 2px rgba(0, 0, 0, 0.3));\n",
              "      fill: #FFFFFF;\n",
              "    }\n",
              "  </style>\n",
              "\n",
              "      <script>\n",
              "        const buttonEl =\n",
              "          document.querySelector('#df-d13b442f-3a21-4abc-88cc-e99c38e3a256 button.colab-df-convert');\n",
              "        buttonEl.style.display =\n",
              "          google.colab.kernel.accessAllowed ? 'block' : 'none';\n",
              "\n",
              "        async function convertToInteractive(key) {\n",
              "          const element = document.querySelector('#df-d13b442f-3a21-4abc-88cc-e99c38e3a256');\n",
              "          const dataTable =\n",
              "            await google.colab.kernel.invokeFunction('convertToInteractive',\n",
              "                                                     [key], {});\n",
              "          if (!dataTable) return;\n",
              "\n",
              "          const docLinkHtml = 'Like what you see? Visit the ' +\n",
              "            '<a target=\"_blank\" href=https://colab.research.google.com/notebooks/data_table.ipynb>data table notebook</a>'\n",
              "            + ' to learn more about interactive tables.';\n",
              "          element.innerHTML = '';\n",
              "          dataTable['output_type'] = 'display_data';\n",
              "          await google.colab.output.renderOutput(dataTable, element);\n",
              "          const docLink = document.createElement('div');\n",
              "          docLink.innerHTML = docLinkHtml;\n",
              "          element.appendChild(docLink);\n",
              "        }\n",
              "      </script>\n",
              "    </div>\n",
              "  </div>\n"
            ]
          },
          "metadata": {},
          "execution_count": 28
        }
      ],
      "source": [
        "from sklearn.preprocessing import LabelEncoder\n",
        "\n",
        "cat_vars = [\n",
        "    \"Workclass\",\n",
        "    \"Education\",\n",
        "    'Marital_status',\n",
        "    'Race',\n",
        "    'Relationship',\n",
        "    \"Occupation\",\n",
        "    \"Sex\",\n",
        "    \"Country\",\n",
        "]\n",
        "# Convert categorical variables to dummy variables\n",
        "salary = pd.get_dummies(salary, columns=cat_vars)\n",
        "\n",
        "\n",
        "salary.head()"
      ],
      "id": "8d97d88b-8965-4006-9778-5a49bd519fbe"
    },
    {
      "cell_type": "code",
      "execution_count": 29,
      "metadata": {
        "id": "c3f3df01-0e2c-4364-b694-222e65df8a2b",
        "colab": {
          "base_uri": "https://localhost:8080/",
          "height": 305
        },
        "outputId": "c35a5d80-ee70-47ea-ffc6-8cfc7ca6fa99"
      },
      "outputs": [
        {
          "output_type": "execute_result",
          "data": {
            "text/plain": [
              "        Age  Final_weight  Capital_gain  Capital_loss  Hours_per_week  Salary  \\\n",
              "0  0.880275     -1.007909     -0.147437      -0.21859       -2.331495       0   \n",
              "1 -0.033338      0.244659     -0.147437      -0.21859       -0.077735       0   \n",
              "2  1.108678      0.425206     -0.147437      -0.21859       -0.077735       0   \n",
              "3 -0.794682      1.406626     -0.147437      -0.21859       -0.077735       0   \n",
              "4 -0.109472      0.897147     -0.147437      -0.21859       -0.077735       0   \n",
              "\n",
              "   Workclass_ Others  Workclass_ Private  Education_ Bachelors  \\\n",
              "0                  1                   0                     1   \n",
              "1                  0                   1                     0   \n",
              "2                  0                   1                     0   \n",
              "3                  0                   1                     1   \n",
              "4                  0                   1                     0   \n",
              "\n",
              "   Education_ HS-grad  Education_ Masters  Education_ Others  \\\n",
              "0                   0                   0                  0   \n",
              "1                   1                   0                  0   \n",
              "2                   0                   0                  1   \n",
              "3                   0                   0                  0   \n",
              "4                   0                   1                  0   \n",
              "\n",
              "   Education_ Some-college  Marital_status_ Divorced  \\\n",
              "0                        0                         0   \n",
              "1                        0                         1   \n",
              "2                        0                         0   \n",
              "3                        0                         0   \n",
              "4                        0                         0   \n",
              "\n",
              "   Marital_status_ Married-civ-spouse  Marital_status_ Never-married  \\\n",
              "0                                   1                              0   \n",
              "1                                   0                              0   \n",
              "2                                   1                              0   \n",
              "3                                   1                              0   \n",
              "4                                   1                              0   \n",
              "\n",
              "   Marital_status_ Separated  Marital_status_ Widowed  Race_ Others  \\\n",
              "0                          0                        0             0   \n",
              "1                          0                        0             0   \n",
              "2                          0                        0             1   \n",
              "3                          0                        0             1   \n",
              "4                          0                        0             0   \n",
              "\n",
              "   Race_ White  Relationship_ Husband  Relationship_ Not-in-family  \\\n",
              "0            1                      1                            0   \n",
              "1            1                      0                            1   \n",
              "2            0                      1                            0   \n",
              "3            0                      0                            0   \n",
              "4            1                      0                            0   \n",
              "\n",
              "   Relationship_ Other-relative  Relationship_ Own-child  \\\n",
              "0                             0                        0   \n",
              "1                             0                        0   \n",
              "2                             0                        0   \n",
              "3                             0                        0   \n",
              "4                             0                        0   \n",
              "\n",
              "   Relationship_ Unmarried  Relationship_ Wife  Occupation_ Adm-clerical  \\\n",
              "0                        0                   0                         0   \n",
              "1                        0                   0                         0   \n",
              "2                        0                   0                         0   \n",
              "3                        0                   1                         0   \n",
              "4                        0                   1                         0   \n",
              "\n",
              "   Occupation_ Armed-Forces  Occupation_ Craft-repair  \\\n",
              "0                         0                         0   \n",
              "1                         0                         0   \n",
              "2                         0                         0   \n",
              "3                         0                         0   \n",
              "4                         0                         0   \n",
              "\n",
              "   Occupation_ Exec-managerial  Occupation_ Farming-fishing  \\\n",
              "0                            1                            0   \n",
              "1                            0                            0   \n",
              "2                            0                            0   \n",
              "3                            0                            0   \n",
              "4                            1                            0   \n",
              "\n",
              "   Occupation_ Handlers-cleaners  Occupation_ Machine-op-inspct  \\\n",
              "0                              0                              0   \n",
              "1                              1                              0   \n",
              "2                              1                              0   \n",
              "3                              0                              0   \n",
              "4                              0                              0   \n",
              "\n",
              "   Occupation_ Other-service  Occupation_ Priv-house-serv  \\\n",
              "0                          0                            0   \n",
              "1                          0                            0   \n",
              "2                          0                            0   \n",
              "3                          0                            0   \n",
              "4                          0                            0   \n",
              "\n",
              "   Occupation_ Prof-specialty  Occupation_ Protective-serv  Occupation_ Sales  \\\n",
              "0                           0                            0                  0   \n",
              "1                           0                            0                  0   \n",
              "2                           0                            0                  0   \n",
              "3                           1                            0                  0   \n",
              "4                           0                            0                  0   \n",
              "\n",
              "   Occupation_ Tech-support  Occupation_ Transport-moving  Sex_ Female  \\\n",
              "0                         0                             0            0   \n",
              "1                         0                             0            0   \n",
              "2                         0                             0            0   \n",
              "3                         0                             0            1   \n",
              "4                         0                             0            1   \n",
              "\n",
              "   Sex_ Male  Country_ Outside-Us  Country_ United-States  \n",
              "0          1                    0                       1  \n",
              "1          1                    0                       1  \n",
              "2          1                    0                       1  \n",
              "3          0                    1                       0  \n",
              "4          0                    0                       1  "
            ],
            "text/html": [
              "\n",
              "\n",
              "  <div id=\"df-e999cfb0-1057-476b-849f-633e2c726de6\">\n",
              "    <div class=\"colab-df-container\">\n",
              "      <div>\n",
              "<style scoped>\n",
              "    .dataframe tbody tr th:only-of-type {\n",
              "        vertical-align: middle;\n",
              "    }\n",
              "\n",
              "    .dataframe tbody tr th {\n",
              "        vertical-align: top;\n",
              "    }\n",
              "\n",
              "    .dataframe thead th {\n",
              "        text-align: right;\n",
              "    }\n",
              "</style>\n",
              "<table border=\"1\" class=\"dataframe\">\n",
              "  <thead>\n",
              "    <tr style=\"text-align: right;\">\n",
              "      <th></th>\n",
              "      <th>Age</th>\n",
              "      <th>Final_weight</th>\n",
              "      <th>Capital_gain</th>\n",
              "      <th>Capital_loss</th>\n",
              "      <th>Hours_per_week</th>\n",
              "      <th>Salary</th>\n",
              "      <th>Workclass_ Others</th>\n",
              "      <th>Workclass_ Private</th>\n",
              "      <th>Education_ Bachelors</th>\n",
              "      <th>Education_ HS-grad</th>\n",
              "      <th>Education_ Masters</th>\n",
              "      <th>Education_ Others</th>\n",
              "      <th>Education_ Some-college</th>\n",
              "      <th>Marital_status_ Divorced</th>\n",
              "      <th>Marital_status_ Married-civ-spouse</th>\n",
              "      <th>Marital_status_ Never-married</th>\n",
              "      <th>Marital_status_ Separated</th>\n",
              "      <th>Marital_status_ Widowed</th>\n",
              "      <th>Race_ Others</th>\n",
              "      <th>Race_ White</th>\n",
              "      <th>Relationship_ Husband</th>\n",
              "      <th>Relationship_ Not-in-family</th>\n",
              "      <th>Relationship_ Other-relative</th>\n",
              "      <th>Relationship_ Own-child</th>\n",
              "      <th>Relationship_ Unmarried</th>\n",
              "      <th>Relationship_ Wife</th>\n",
              "      <th>Occupation_ Adm-clerical</th>\n",
              "      <th>Occupation_ Armed-Forces</th>\n",
              "      <th>Occupation_ Craft-repair</th>\n",
              "      <th>Occupation_ Exec-managerial</th>\n",
              "      <th>Occupation_ Farming-fishing</th>\n",
              "      <th>Occupation_ Handlers-cleaners</th>\n",
              "      <th>Occupation_ Machine-op-inspct</th>\n",
              "      <th>Occupation_ Other-service</th>\n",
              "      <th>Occupation_ Priv-house-serv</th>\n",
              "      <th>Occupation_ Prof-specialty</th>\n",
              "      <th>Occupation_ Protective-serv</th>\n",
              "      <th>Occupation_ Sales</th>\n",
              "      <th>Occupation_ Tech-support</th>\n",
              "      <th>Occupation_ Transport-moving</th>\n",
              "      <th>Sex_ Female</th>\n",
              "      <th>Sex_ Male</th>\n",
              "      <th>Country_ Outside-Us</th>\n",
              "      <th>Country_ United-States</th>\n",
              "    </tr>\n",
              "  </thead>\n",
              "  <tbody>\n",
              "    <tr>\n",
              "      <th>0</th>\n",
              "      <td>0.880275</td>\n",
              "      <td>-1.007909</td>\n",
              "      <td>-0.147437</td>\n",
              "      <td>-0.21859</td>\n",
              "      <td>-2.331495</td>\n",
              "      <td>0</td>\n",
              "      <td>1</td>\n",
              "      <td>0</td>\n",
              "      <td>1</td>\n",
              "      <td>0</td>\n",
              "      <td>0</td>\n",
              "      <td>0</td>\n",
              "      <td>0</td>\n",
              "      <td>0</td>\n",
              "      <td>1</td>\n",
              "      <td>0</td>\n",
              "      <td>0</td>\n",
              "      <td>0</td>\n",
              "      <td>0</td>\n",
              "      <td>1</td>\n",
              "      <td>1</td>\n",
              "      <td>0</td>\n",
              "      <td>0</td>\n",
              "      <td>0</td>\n",
              "      <td>0</td>\n",
              "      <td>0</td>\n",
              "      <td>0</td>\n",
              "      <td>0</td>\n",
              "      <td>0</td>\n",
              "      <td>1</td>\n",
              "      <td>0</td>\n",
              "      <td>0</td>\n",
              "      <td>0</td>\n",
              "      <td>0</td>\n",
              "      <td>0</td>\n",
              "      <td>0</td>\n",
              "      <td>0</td>\n",
              "      <td>0</td>\n",
              "      <td>0</td>\n",
              "      <td>0</td>\n",
              "      <td>0</td>\n",
              "      <td>1</td>\n",
              "      <td>0</td>\n",
              "      <td>1</td>\n",
              "    </tr>\n",
              "    <tr>\n",
              "      <th>1</th>\n",
              "      <td>-0.033338</td>\n",
              "      <td>0.244659</td>\n",
              "      <td>-0.147437</td>\n",
              "      <td>-0.21859</td>\n",
              "      <td>-0.077735</td>\n",
              "      <td>0</td>\n",
              "      <td>0</td>\n",
              "      <td>1</td>\n",
              "      <td>0</td>\n",
              "      <td>1</td>\n",
              "      <td>0</td>\n",
              "      <td>0</td>\n",
              "      <td>0</td>\n",
              "      <td>1</td>\n",
              "      <td>0</td>\n",
              "      <td>0</td>\n",
              "      <td>0</td>\n",
              "      <td>0</td>\n",
              "      <td>0</td>\n",
              "      <td>1</td>\n",
              "      <td>0</td>\n",
              "      <td>1</td>\n",
              "      <td>0</td>\n",
              "      <td>0</td>\n",
              "      <td>0</td>\n",
              "      <td>0</td>\n",
              "      <td>0</td>\n",
              "      <td>0</td>\n",
              "      <td>0</td>\n",
              "      <td>0</td>\n",
              "      <td>0</td>\n",
              "      <td>1</td>\n",
              "      <td>0</td>\n",
              "      <td>0</td>\n",
              "      <td>0</td>\n",
              "      <td>0</td>\n",
              "      <td>0</td>\n",
              "      <td>0</td>\n",
              "      <td>0</td>\n",
              "      <td>0</td>\n",
              "      <td>0</td>\n",
              "      <td>1</td>\n",
              "      <td>0</td>\n",
              "      <td>1</td>\n",
              "    </tr>\n",
              "    <tr>\n",
              "      <th>2</th>\n",
              "      <td>1.108678</td>\n",
              "      <td>0.425206</td>\n",
              "      <td>-0.147437</td>\n",
              "      <td>-0.21859</td>\n",
              "      <td>-0.077735</td>\n",
              "      <td>0</td>\n",
              "      <td>0</td>\n",
              "      <td>1</td>\n",
              "      <td>0</td>\n",
              "      <td>0</td>\n",
              "      <td>0</td>\n",
              "      <td>1</td>\n",
              "      <td>0</td>\n",
              "      <td>0</td>\n",
              "      <td>1</td>\n",
              "      <td>0</td>\n",
              "      <td>0</td>\n",
              "      <td>0</td>\n",
              "      <td>1</td>\n",
              "      <td>0</td>\n",
              "      <td>1</td>\n",
              "      <td>0</td>\n",
              "      <td>0</td>\n",
              "      <td>0</td>\n",
              "      <td>0</td>\n",
              "      <td>0</td>\n",
              "      <td>0</td>\n",
              "      <td>0</td>\n",
              "      <td>0</td>\n",
              "      <td>0</td>\n",
              "      <td>0</td>\n",
              "      <td>1</td>\n",
              "      <td>0</td>\n",
              "      <td>0</td>\n",
              "      <td>0</td>\n",
              "      <td>0</td>\n",
              "      <td>0</td>\n",
              "      <td>0</td>\n",
              "      <td>0</td>\n",
              "      <td>0</td>\n",
              "      <td>0</td>\n",
              "      <td>1</td>\n",
              "      <td>0</td>\n",
              "      <td>1</td>\n",
              "    </tr>\n",
              "    <tr>\n",
              "      <th>3</th>\n",
              "      <td>-0.794682</td>\n",
              "      <td>1.406626</td>\n",
              "      <td>-0.147437</td>\n",
              "      <td>-0.21859</td>\n",
              "      <td>-0.077735</td>\n",
              "      <td>0</td>\n",
              "      <td>0</td>\n",
              "      <td>1</td>\n",
              "      <td>1</td>\n",
              "      <td>0</td>\n",
              "      <td>0</td>\n",
              "      <td>0</td>\n",
              "      <td>0</td>\n",
              "      <td>0</td>\n",
              "      <td>1</td>\n",
              "      <td>0</td>\n",
              "      <td>0</td>\n",
              "      <td>0</td>\n",
              "      <td>1</td>\n",
              "      <td>0</td>\n",
              "      <td>0</td>\n",
              "      <td>0</td>\n",
              "      <td>0</td>\n",
              "      <td>0</td>\n",
              "      <td>0</td>\n",
              "      <td>1</td>\n",
              "      <td>0</td>\n",
              "      <td>0</td>\n",
              "      <td>0</td>\n",
              "      <td>0</td>\n",
              "      <td>0</td>\n",
              "      <td>0</td>\n",
              "      <td>0</td>\n",
              "      <td>0</td>\n",
              "      <td>0</td>\n",
              "      <td>1</td>\n",
              "      <td>0</td>\n",
              "      <td>0</td>\n",
              "      <td>0</td>\n",
              "      <td>0</td>\n",
              "      <td>1</td>\n",
              "      <td>0</td>\n",
              "      <td>1</td>\n",
              "      <td>0</td>\n",
              "    </tr>\n",
              "    <tr>\n",
              "      <th>4</th>\n",
              "      <td>-0.109472</td>\n",
              "      <td>0.897147</td>\n",
              "      <td>-0.147437</td>\n",
              "      <td>-0.21859</td>\n",
              "      <td>-0.077735</td>\n",
              "      <td>0</td>\n",
              "      <td>0</td>\n",
              "      <td>1</td>\n",
              "      <td>0</td>\n",
              "      <td>0</td>\n",
              "      <td>1</td>\n",
              "      <td>0</td>\n",
              "      <td>0</td>\n",
              "      <td>0</td>\n",
              "      <td>1</td>\n",
              "      <td>0</td>\n",
              "      <td>0</td>\n",
              "      <td>0</td>\n",
              "      <td>0</td>\n",
              "      <td>1</td>\n",
              "      <td>0</td>\n",
              "      <td>0</td>\n",
              "      <td>0</td>\n",
              "      <td>0</td>\n",
              "      <td>0</td>\n",
              "      <td>1</td>\n",
              "      <td>0</td>\n",
              "      <td>0</td>\n",
              "      <td>0</td>\n",
              "      <td>1</td>\n",
              "      <td>0</td>\n",
              "      <td>0</td>\n",
              "      <td>0</td>\n",
              "      <td>0</td>\n",
              "      <td>0</td>\n",
              "      <td>0</td>\n",
              "      <td>0</td>\n",
              "      <td>0</td>\n",
              "      <td>0</td>\n",
              "      <td>0</td>\n",
              "      <td>1</td>\n",
              "      <td>0</td>\n",
              "      <td>0</td>\n",
              "      <td>1</td>\n",
              "    </tr>\n",
              "  </tbody>\n",
              "</table>\n",
              "</div>\n",
              "      <button class=\"colab-df-convert\" onclick=\"convertToInteractive('df-e999cfb0-1057-476b-849f-633e2c726de6')\"\n",
              "              title=\"Convert this dataframe to an interactive table.\"\n",
              "              style=\"display:none;\">\n",
              "\n",
              "  <svg xmlns=\"http://www.w3.org/2000/svg\" height=\"24px\"viewBox=\"0 0 24 24\"\n",
              "       width=\"24px\">\n",
              "    <path d=\"M0 0h24v24H0V0z\" fill=\"none\"/>\n",
              "    <path d=\"M18.56 5.44l.94 2.06.94-2.06 2.06-.94-2.06-.94-.94-2.06-.94 2.06-2.06.94zm-11 1L8.5 8.5l.94-2.06 2.06-.94-2.06-.94L8.5 2.5l-.94 2.06-2.06.94zm10 10l.94 2.06.94-2.06 2.06-.94-2.06-.94-.94-2.06-.94 2.06-2.06.94z\"/><path d=\"M17.41 7.96l-1.37-1.37c-.4-.4-.92-.59-1.43-.59-.52 0-1.04.2-1.43.59L10.3 9.45l-7.72 7.72c-.78.78-.78 2.05 0 2.83L4 21.41c.39.39.9.59 1.41.59.51 0 1.02-.2 1.41-.59l7.78-7.78 2.81-2.81c.8-.78.8-2.07 0-2.86zM5.41 20L4 18.59l7.72-7.72 1.47 1.35L5.41 20z\"/>\n",
              "  </svg>\n",
              "      </button>\n",
              "\n",
              "\n",
              "\n",
              "    <div id=\"df-6616d3bf-702c-4090-8e54-7f0f77155a8b\">\n",
              "      <button class=\"colab-df-quickchart\" onclick=\"quickchart('df-6616d3bf-702c-4090-8e54-7f0f77155a8b')\"\n",
              "              title=\"Suggest charts.\"\n",
              "              style=\"display:none;\">\n",
              "\n",
              "<svg xmlns=\"http://www.w3.org/2000/svg\" height=\"24px\"viewBox=\"0 0 24 24\"\n",
              "     width=\"24px\">\n",
              "    <g>\n",
              "        <path d=\"M19 3H5c-1.1 0-2 .9-2 2v14c0 1.1.9 2 2 2h14c1.1 0 2-.9 2-2V5c0-1.1-.9-2-2-2zM9 17H7v-7h2v7zm4 0h-2V7h2v10zm4 0h-2v-4h2v4z\"/>\n",
              "    </g>\n",
              "</svg>\n",
              "      </button>\n",
              "    </div>\n",
              "\n",
              "<style>\n",
              "  .colab-df-quickchart {\n",
              "    background-color: #E8F0FE;\n",
              "    border: none;\n",
              "    border-radius: 50%;\n",
              "    cursor: pointer;\n",
              "    display: none;\n",
              "    fill: #1967D2;\n",
              "    height: 32px;\n",
              "    padding: 0 0 0 0;\n",
              "    width: 32px;\n",
              "  }\n",
              "\n",
              "  .colab-df-quickchart:hover {\n",
              "    background-color: #E2EBFA;\n",
              "    box-shadow: 0px 1px 2px rgba(60, 64, 67, 0.3), 0px 1px 3px 1px rgba(60, 64, 67, 0.15);\n",
              "    fill: #174EA6;\n",
              "  }\n",
              "\n",
              "  [theme=dark] .colab-df-quickchart {\n",
              "    background-color: #3B4455;\n",
              "    fill: #D2E3FC;\n",
              "  }\n",
              "\n",
              "  [theme=dark] .colab-df-quickchart:hover {\n",
              "    background-color: #434B5C;\n",
              "    box-shadow: 0px 1px 3px 1px rgba(0, 0, 0, 0.15);\n",
              "    filter: drop-shadow(0px 1px 2px rgba(0, 0, 0, 0.3));\n",
              "    fill: #FFFFFF;\n",
              "  }\n",
              "</style>\n",
              "\n",
              "    <script>\n",
              "      async function quickchart(key) {\n",
              "        const containerElement = document.querySelector('#' + key);\n",
              "        const charts = await google.colab.kernel.invokeFunction(\n",
              "            'suggestCharts', [key], {});\n",
              "      }\n",
              "    </script>\n",
              "\n",
              "      <script>\n",
              "\n",
              "function displayQuickchartButton(domScope) {\n",
              "  let quickchartButtonEl =\n",
              "    domScope.querySelector('#df-6616d3bf-702c-4090-8e54-7f0f77155a8b button.colab-df-quickchart');\n",
              "  quickchartButtonEl.style.display =\n",
              "    google.colab.kernel.accessAllowed ? 'block' : 'none';\n",
              "}\n",
              "\n",
              "        displayQuickchartButton(document);\n",
              "      </script>\n",
              "      <style>\n",
              "    .colab-df-container {\n",
              "      display:flex;\n",
              "      flex-wrap:wrap;\n",
              "      gap: 12px;\n",
              "    }\n",
              "\n",
              "    .colab-df-convert {\n",
              "      background-color: #E8F0FE;\n",
              "      border: none;\n",
              "      border-radius: 50%;\n",
              "      cursor: pointer;\n",
              "      display: none;\n",
              "      fill: #1967D2;\n",
              "      height: 32px;\n",
              "      padding: 0 0 0 0;\n",
              "      width: 32px;\n",
              "    }\n",
              "\n",
              "    .colab-df-convert:hover {\n",
              "      background-color: #E2EBFA;\n",
              "      box-shadow: 0px 1px 2px rgba(60, 64, 67, 0.3), 0px 1px 3px 1px rgba(60, 64, 67, 0.15);\n",
              "      fill: #174EA6;\n",
              "    }\n",
              "\n",
              "    [theme=dark] .colab-df-convert {\n",
              "      background-color: #3B4455;\n",
              "      fill: #D2E3FC;\n",
              "    }\n",
              "\n",
              "    [theme=dark] .colab-df-convert:hover {\n",
              "      background-color: #434B5C;\n",
              "      box-shadow: 0px 1px 3px 1px rgba(0, 0, 0, 0.15);\n",
              "      filter: drop-shadow(0px 1px 2px rgba(0, 0, 0, 0.3));\n",
              "      fill: #FFFFFF;\n",
              "    }\n",
              "  </style>\n",
              "\n",
              "      <script>\n",
              "        const buttonEl =\n",
              "          document.querySelector('#df-e999cfb0-1057-476b-849f-633e2c726de6 button.colab-df-convert');\n",
              "        buttonEl.style.display =\n",
              "          google.colab.kernel.accessAllowed ? 'block' : 'none';\n",
              "\n",
              "        async function convertToInteractive(key) {\n",
              "          const element = document.querySelector('#df-e999cfb0-1057-476b-849f-633e2c726de6');\n",
              "          const dataTable =\n",
              "            await google.colab.kernel.invokeFunction('convertToInteractive',\n",
              "                                                     [key], {});\n",
              "          if (!dataTable) return;\n",
              "\n",
              "          const docLinkHtml = 'Like what you see? Visit the ' +\n",
              "            '<a target=\"_blank\" href=https://colab.research.google.com/notebooks/data_table.ipynb>data table notebook</a>'\n",
              "            + ' to learn more about interactive tables.';\n",
              "          element.innerHTML = '';\n",
              "          dataTable['output_type'] = 'display_data';\n",
              "          await google.colab.output.renderOutput(dataTable, element);\n",
              "          const docLink = document.createElement('div');\n",
              "          docLink.innerHTML = docLinkHtml;\n",
              "          element.appendChild(docLink);\n",
              "        }\n",
              "      </script>\n",
              "    </div>\n",
              "  </div>\n"
            ]
          },
          "metadata": {},
          "execution_count": 29
        }
      ],
      "source": [
        "# Scale the numerical variables\n",
        "from sklearn.preprocessing import StandardScaler\n",
        "#new_num_var = [\"Age\", 'Final_weight', 'Hours_per_week']\n",
        "scaler = StandardScaler()\n",
        "salary[num_variable] = scaler.fit_transform(salary[num_variable])\n",
        "salary.head()"
      ],
      "id": "c3f3df01-0e2c-4364-b694-222e65df8a2b"
    },
    {
      "cell_type": "markdown",
      "metadata": {
        "id": "Rohg5H-aOScc"
      },
      "source": [
        "The columns originally with numeric values were standardized. This is because Standardization of data improves performance of some models  can help to reduce the impact of skewed distributions or extreme values."
      ],
      "id": "Rohg5H-aOScc"
    },
    {
      "cell_type": "code",
      "source": [
        "from sklearn.ensemble import RandomForestClassifier\n",
        "from sklearn.model_selection import train_test_split\n",
        "\n",
        "# Split the data into features (X) and target (y)\n",
        "X = salary.drop(columns=[\"Salary\"])\n",
        "y = salary[\"Salary\"]\n",
        "\n",
        "# Split the data into a training set and a test set\n",
        "X_train, X_test, y_train, y_test = train_test_split(\n",
        "    X, y, test_size=0.2, random_state=42\n",
        ")\n",
        "\n",
        "# Create a random forest classifier\n",
        "rf = RandomForestClassifier()\n",
        "\n",
        "# Train the random forest model\n",
        "rf.fit(X_train, y_train)\n",
        "\n",
        "# Retrieve feature importances\n",
        "feature_importances = rf.feature_importances_\n",
        "\n",
        "# Create a dataframe to store feature importances\n",
        "feature_importance_df = pd.DataFrame({'Feature': X.columns, 'Importance': feature_importances})\n",
        "\n",
        "# Sort the features by importance (descending order)\n",
        "feature_importance_df = feature_importance_df.sort_values('Importance', ascending=False)\n",
        "\n",
        "# Print the top 10 most important features\n",
        "print(feature_importance_df.head(10))\n",
        "\n",
        "# Select top 5 features\n",
        "selected_features = feature_importance_df['Feature'].head(5).tolist()\n",
        "\n",
        "# Retrain the model using selected features\n",
        "X_train_selected = X_train[selected_features]\n",
        "X_test_selected = X_test[selected_features]\n",
        "\n",
        "# Retrain the random forest model with selected features\n",
        "rf_selected = RandomForestClassifier()\n",
        "rf_selected.fit(X_train_selected, y_train)\n",
        "\n",
        "# Evaluate model performance on selected features\n",
        "accuracy = rf_selected.score(X_test_selected, y_test)\n",
        "print(\"Accuracy on selected features:\", accuracy)\n"
      ],
      "metadata": {
        "colab": {
          "base_uri": "https://localhost:8080/"
        },
        "id": "6AXxgENYVgBU",
        "outputId": "13287645-1e40-4ea4-8721-edfae53450e1"
      },
      "id": "6AXxgENYVgBU",
      "execution_count": 30,
      "outputs": [
        {
          "output_type": "stream",
          "name": "stdout",
          "text": [
            "                               Feature  Importance\n",
            "1                         Final_weight    0.184656\n",
            "0                                  Age    0.165215\n",
            "2                         Capital_gain    0.104732\n",
            "4                       Hours_per_week    0.091546\n",
            "13  Marital_status_ Married-civ-spouse    0.066803\n",
            "19               Relationship_ Husband    0.047783\n",
            "3                         Capital_loss    0.031111\n",
            "14       Marital_status_ Never-married    0.027092\n",
            "34          Occupation_ Prof-specialty    0.026804\n",
            "7                 Education_ Bachelors    0.021513\n",
            "Accuracy on selected features: 0.7865075418531411\n"
          ]
        }
      ]
    },
    {
      "cell_type": "markdown",
      "source": [
        "From the above it can be seen that the features importance are not high so therefore there will be no need to drop any column"
      ],
      "metadata": {
        "id": "3LxgSAtGVebS"
      },
      "id": "3LxgSAtGVebS"
    },
    {
      "cell_type": "markdown",
      "metadata": {
        "id": "a47576e0-d376-4335-bea4-e43720d61665"
      },
      "source": [
        "### Train model\n",
        "\n",
        "Now that the data has been preprocessed, a machine learning model can be trained to predict a person's salary based on the other features in the dataset. To do this, Random forest classifier model will be used, this is because the target variable, salary, is binary (whether a person earns more than 50K or not) and logistic regression is a suitable algorithm for binary classification problems. It estimates the probability of the target variable based on the input features, and then applies a threshold to make a binary classification decision. Logistic regression is also a simple and interpretable model, and can handle both numerical and categorical features.\n",
        "\n",
        "\n",
        "\n",
        "."
      ],
      "id": "a47576e0-d376-4335-bea4-e43720d61665"
    },
    {
      "cell_type": "code",
      "execution_count": 31,
      "metadata": {
        "id": "509fe1b2-5375-4109-ab4e-1972bcedb43a",
        "colab": {
          "base_uri": "https://localhost:8080/"
        },
        "outputId": "0f4c6c5a-6204-4835-e301-7a182dc7057b"
      },
      "outputs": [
        {
          "output_type": "stream",
          "name": "stdout",
          "text": [
            "Best Hyperparameters: {'n_estimators': 450, 'min_samples_split': 3, 'min_samples_leaf': 2, 'max_depth': None}\n",
            "Best Accuracy: 0.8570127182425077\n",
            "Test Accuracy: 0.9244860742705571\n"
          ]
        }
      ],
      "source": [
        "from sklearn.model_selection import RandomizedSearchCV\n",
        "from sklearn.metrics import accuracy_score\n",
        "# Create the Random Forest Classifier\n",
        "rf_classifier = RandomForestClassifier()\n",
        "\n",
        "# Define the hyperparameter grid to search\n",
        "param_dist = {\n",
        "    'n_estimators': np.arange(100, 500, 50),        # Number of trees in the forest\n",
        "    'max_depth': [None, 5, 10, 15],                 # Maximum depth of the trees\n",
        "    'min_samples_split': np.arange(2, 11),          # Minimum number of samples required to split an internal node\n",
        "    'min_samples_leaf': np.arange(1, 5)             # Minimum number of samples required to be at a leaf node\n",
        "}\n",
        "\n",
        "# Perform randomized Search with cross-validation\n",
        "random_search = RandomizedSearchCV(estimator=rf_classifier, param_distributions=param_dist, n_iter=10, cv=5, random_state=42)\n",
        "random_search.fit(X_train, y_train)\n",
        "\n",
        "# Print the best hyperparameters and the corresponding accuracy\n",
        "print(\"Best Hyperparameters:\", random_search.best_params_)\n",
        "print(\"Best Accuracy:\", random_search.best_score_)\n",
        "\n",
        "# Get the best model with the best hyperparameters\n",
        "best_model = random_search.best_estimator_\n",
        "\n",
        "# Evaluate the best model on the test set\n",
        "accuracy = best_model.score(X_train, y_train)\n",
        "print(\"Test Accuracy:\", accuracy)"
      ],
      "id": "509fe1b2-5375-4109-ab4e-1972bcedb43a"
    },
    {
      "cell_type": "markdown",
      "source": [
        "In the above codes, hyperparameter search was performed to  find the best combination of hyperparameter values that result in the highest model performance on the validation or test data. It was done using randomized search.\n",
        "\n",
        "From the result above the test accuracy is 0.86 while the best accuracy is 0.91. which means that test accuracy represents the true generalization performance of the model on new, unseen data is 86%, while best accuracy is 91% which is the highest validation set accuracy achieved during hyperparameter tuning, helping in the selection of the optimal hyperparameters."
      ],
      "metadata": {
        "id": "_RAphRXtW0pG"
      },
      "id": "_RAphRXtW0pG"
    },
    {
      "cell_type": "code",
      "execution_count": 32,
      "metadata": {
        "id": "42rKxYMECCbZ",
        "colab": {
          "base_uri": "https://localhost:8080/",
          "height": 92
        },
        "outputId": "513765dc-5efc-4b9a-e375-0bb266fb317f"
      },
      "outputs": [
        {
          "output_type": "execute_result",
          "data": {
            "text/plain": [
              "RandomForestClassifier(min_samples_leaf=2, min_samples_split=8,\n",
              "                       n_estimators=150)"
            ],
            "text/html": [
              "<style>#sk-container-id-1 {color: black;background-color: white;}#sk-container-id-1 pre{padding: 0;}#sk-container-id-1 div.sk-toggleable {background-color: white;}#sk-container-id-1 label.sk-toggleable__label {cursor: pointer;display: block;width: 100%;margin-bottom: 0;padding: 0.3em;box-sizing: border-box;text-align: center;}#sk-container-id-1 label.sk-toggleable__label-arrow:before {content: \"▸\";float: left;margin-right: 0.25em;color: #696969;}#sk-container-id-1 label.sk-toggleable__label-arrow:hover:before {color: black;}#sk-container-id-1 div.sk-estimator:hover label.sk-toggleable__label-arrow:before {color: black;}#sk-container-id-1 div.sk-toggleable__content {max-height: 0;max-width: 0;overflow: hidden;text-align: left;background-color: #f0f8ff;}#sk-container-id-1 div.sk-toggleable__content pre {margin: 0.2em;color: black;border-radius: 0.25em;background-color: #f0f8ff;}#sk-container-id-1 input.sk-toggleable__control:checked~div.sk-toggleable__content {max-height: 200px;max-width: 100%;overflow: auto;}#sk-container-id-1 input.sk-toggleable__control:checked~label.sk-toggleable__label-arrow:before {content: \"▾\";}#sk-container-id-1 div.sk-estimator input.sk-toggleable__control:checked~label.sk-toggleable__label {background-color: #d4ebff;}#sk-container-id-1 div.sk-label input.sk-toggleable__control:checked~label.sk-toggleable__label {background-color: #d4ebff;}#sk-container-id-1 input.sk-hidden--visually {border: 0;clip: rect(1px 1px 1px 1px);clip: rect(1px, 1px, 1px, 1px);height: 1px;margin: -1px;overflow: hidden;padding: 0;position: absolute;width: 1px;}#sk-container-id-1 div.sk-estimator {font-family: monospace;background-color: #f0f8ff;border: 1px dotted black;border-radius: 0.25em;box-sizing: border-box;margin-bottom: 0.5em;}#sk-container-id-1 div.sk-estimator:hover {background-color: #d4ebff;}#sk-container-id-1 div.sk-parallel-item::after {content: \"\";width: 100%;border-bottom: 1px solid gray;flex-grow: 1;}#sk-container-id-1 div.sk-label:hover label.sk-toggleable__label {background-color: #d4ebff;}#sk-container-id-1 div.sk-serial::before {content: \"\";position: absolute;border-left: 1px solid gray;box-sizing: border-box;top: 0;bottom: 0;left: 50%;z-index: 0;}#sk-container-id-1 div.sk-serial {display: flex;flex-direction: column;align-items: center;background-color: white;padding-right: 0.2em;padding-left: 0.2em;position: relative;}#sk-container-id-1 div.sk-item {position: relative;z-index: 1;}#sk-container-id-1 div.sk-parallel {display: flex;align-items: stretch;justify-content: center;background-color: white;position: relative;}#sk-container-id-1 div.sk-item::before, #sk-container-id-1 div.sk-parallel-item::before {content: \"\";position: absolute;border-left: 1px solid gray;box-sizing: border-box;top: 0;bottom: 0;left: 50%;z-index: -1;}#sk-container-id-1 div.sk-parallel-item {display: flex;flex-direction: column;z-index: 1;position: relative;background-color: white;}#sk-container-id-1 div.sk-parallel-item:first-child::after {align-self: flex-end;width: 50%;}#sk-container-id-1 div.sk-parallel-item:last-child::after {align-self: flex-start;width: 50%;}#sk-container-id-1 div.sk-parallel-item:only-child::after {width: 0;}#sk-container-id-1 div.sk-dashed-wrapped {border: 1px dashed gray;margin: 0 0.4em 0.5em 0.4em;box-sizing: border-box;padding-bottom: 0.4em;background-color: white;}#sk-container-id-1 div.sk-label label {font-family: monospace;font-weight: bold;display: inline-block;line-height: 1.2em;}#sk-container-id-1 div.sk-label-container {text-align: center;}#sk-container-id-1 div.sk-container {/* jupyter's `normalize.less` sets `[hidden] { display: none; }` but bootstrap.min.css set `[hidden] { display: none !important; }` so we also need the `!important` here to be able to override the default hidden behavior on the sphinx rendered scikit-learn.org. See: https://github.com/scikit-learn/scikit-learn/issues/21755 */display: inline-block !important;position: relative;}#sk-container-id-1 div.sk-text-repr-fallback {display: none;}</style><div id=\"sk-container-id-1\" class=\"sk-top-container\"><div class=\"sk-text-repr-fallback\"><pre>RandomForestClassifier(min_samples_leaf=2, min_samples_split=8,\n",
              "                       n_estimators=150)</pre><b>In a Jupyter environment, please rerun this cell to show the HTML representation or trust the notebook. <br />On GitHub, the HTML representation is unable to render, please try loading this page with nbviewer.org.</b></div><div class=\"sk-container\" hidden><div class=\"sk-item\"><div class=\"sk-estimator sk-toggleable\"><input class=\"sk-toggleable__control sk-hidden--visually\" id=\"sk-estimator-id-1\" type=\"checkbox\" checked><label for=\"sk-estimator-id-1\" class=\"sk-toggleable__label sk-toggleable__label-arrow\">RandomForestClassifier</label><div class=\"sk-toggleable__content\"><pre>RandomForestClassifier(min_samples_leaf=2, min_samples_split=8,\n",
              "                       n_estimators=150)</pre></div></div></div></div></div>"
            ]
          },
          "metadata": {},
          "execution_count": 32
        }
      ],
      "source": [
        "# Create the Random Forest Classifier with the best hyperparameters found during RandomizedSearchCV\n",
        "rf_classifier = RandomForestClassifier(n_estimators=150, min_samples_split=8, min_samples_leaf=2, max_depth=None)\n",
        "\n",
        "# Train the final model on the entire training dataset\n",
        "rf_classifier.fit(X_train, y_train)"
      ],
      "id": "42rKxYMECCbZ"
    },
    {
      "cell_type": "markdown",
      "metadata": {
        "id": "83bcf63b-0a78-42df-a0b1-1cdbfdcd3b42"
      },
      "source": [
        "### Evaluate Model\n",
        "\n",
        "The model was evaluated to determine how well it performs on predicting a person's salary and assess the quality of the model's predictions."
      ],
      "id": "83bcf63b-0a78-42df-a0b1-1cdbfdcd3b42"
    },
    {
      "cell_type": "code",
      "execution_count": 33,
      "metadata": {
        "id": "fbc3d7d5-604f-4905-961f-fbbc31f3ae6f",
        "colab": {
          "base_uri": "https://localhost:8080/"
        },
        "outputId": "74b86331-da8b-409e-c43f-6d75b73b5af7"
      },
      "outputs": [
        {
          "output_type": "stream",
          "name": "stdout",
          "text": [
            "AUC Score: 0.9048275318947865\n"
          ]
        }
      ],
      "source": [
        "from sklearn.metrics import accuracy_score, classification_report, roc_auc_score, confusion_matrix\n",
        "\n",
        "# Make predictions on the test set\n",
        "predict = rf_classifier.predict(X_test)\n",
        "y_pred_proba = rf_classifier.predict_proba(X_test)[:, 1]  # Probabilities of the positive class (class 1)\n",
        "\n",
        "# Calculate the AUC score\n",
        "auc_score = roc_auc_score(y_test, y_pred_proba)\n",
        "\n",
        "print(\"AUC Score:\", auc_score)"
      ],
      "id": "fbc3d7d5-604f-4905-961f-fbbc31f3ae6f"
    },
    {
      "cell_type": "markdown",
      "source": [
        "The AUC score 0.905. This means the model can distinguish between positive and negative samples 90.5% of the time."
      ],
      "metadata": {
        "id": "rV0YJ8czTvYd"
      },
      "id": "rV0YJ8czTvYd"
    },
    {
      "cell_type": "code",
      "execution_count": 34,
      "metadata": {
        "id": "f3cd2f82-ad43-482d-819b-a283d57261fd",
        "colab": {
          "base_uri": "https://localhost:8080/"
        },
        "outputId": "b6a71279-0a78-43c7-81bd-7568b4e146f8"
      },
      "outputs": [
        {
          "output_type": "stream",
          "name": "stdout",
          "text": [
            " Classification Report \n",
            " --------------------------------------------------------\n",
            "              precision    recall  f1-score   support\n",
            "\n",
            "           0       0.88      0.93      0.91      4535\n",
            "           1       0.75      0.62      0.68      1498\n",
            "\n",
            "    accuracy                           0.85      6033\n",
            "   macro avg       0.82      0.77      0.79      6033\n",
            "weighted avg       0.85      0.85      0.85      6033\n",
            "\n"
          ]
        }
      ],
      "source": [
        "report = classification_report(y_test, predict)\n",
        "print(\" Classification Report \\n\", \"--------------------------------------------------------\")\n",
        "print(report)"
      ],
      "id": "f3cd2f82-ad43-482d-819b-a283d57261fd"
    },
    {
      "cell_type": "code",
      "source": [
        "# Calculate the confusion matrix\n",
        "cm = confusion_matrix(y_test, predict)\n",
        "# Calculate percentages\n",
        "cm_percent = np.round((cm / cm.sum()) * 100, 2)\n",
        "\n",
        "# Plot the confusion matrix\n",
        "plt.figure(figsize=(6, 4))\n",
        "sns.heatmap(cm_percent, annot=True, cmap=\"Blues\", cbar=False,\n",
        "            xticklabels=['Class 0', 'Class 1'],\n",
        "            yticklabels=['Class 0', 'Class 1'])\n",
        "plt.xlabel('Predicted Labels')\n",
        "plt.ylabel('True Labels')\n",
        "plt.title('Confusion Matrix (Percentage)')\n",
        "plt.show()"
      ],
      "metadata": {
        "colab": {
          "base_uri": "https://localhost:8080/",
          "height": 410
        },
        "id": "ZuiMqb47BDfA",
        "outputId": "f9bb10ff-402a-4bba-ac06-d03d7a4237f3"
      },
      "id": "ZuiMqb47BDfA",
      "execution_count": 35,
      "outputs": [
        {
          "output_type": "display_data",
          "data": {
            "text/plain": [
              "<Figure size 600x400 with 1 Axes>"
            ],
            "image/png": "[encoded data removed]"
          },
          "metadata": {}
        }
      ]
    },
    {
      "cell_type": "markdown",
      "metadata": {
        "id": "25VMM7F3imim"
      },
      "source": [
        "Precision and Recall:\n",
        "- For class 0 (salary <= 50k): The precision is 0.88, meaning that when the model predicts a person's salary is below or equals to 50k is correct 88% of the time. The recall is 0.93, which suggests that the model correctly identifies 93% of individuals with salaries below or equals to  50k.\n",
        "- For class 1 (salary > 50k): The precision is 0.75, which means that when the model predicts a person's salary is above 50k is correct 75% of the time. The recall is 0.62, indicating that the model correctly identifies 62% of the individuals with salaries above 50k.\n",
        "F1-score:\n",
        "\n",
        "The F1-score\n",
        "- For class 0 f1-score is 0.93, and for class 1 is 0.68%. The F1-score provides a balance between precision and recall. In this case, the F1-score for class 0 (salary <= 50k) is higher, indicating better overall performance in distinguishing low-income individuals.\n",
        "\n",
        "Support:\n",
        "- For class 0 support is 4535, which is the number of samples in class 0 in the test set.\n",
        "- For class 1 support is 1498, which is the number of samples in class 1 in the test set.\n",
        "\n",
        "Accuracy:\n",
        "- The model has an overall accuracy of 0.85, meaning it correctly predicts 85% of individuals' salaries (both above and below 50k) in the test set.\n",
        "\n",
        "Confusion matrix:\n",
        "- For class 0, the true postive is 75% while the false positive is 5%.\n",
        "-  For class 1, the true negative is 15% while the false negative is 9.5%."
      ],
      "id": "25VMM7F3imim"
    },
    {
      "cell_type": "markdown",
      "metadata": {
        "id": "6c61ab52-af50-4f90-8893-f6ef91bf887c"
      },
      "source": [
        "### Predict Salary"
      ],
      "id": "6c61ab52-af50-4f90-8893-f6ef91bf887c"
    },
    {
      "cell_type": "code",
      "execution_count": 36,
      "metadata": {
        "id": "1d1afe2d-168c-4a4c-b55f-e034889df484",
        "colab": {
          "base_uri": "https://localhost:8080/"
        },
        "outputId": "247e33c3-501c-4caf-847f-3786c55e6c26"
      },
      "outputs": [
        {
          "output_type": "stream",
          "name": "stdout",
          "text": [
            "The person makes over 50K a year\n"
          ]
        }
      ],
      "source": [
        "# Create a new candidate\n",
        "new_candidate = pd.DataFrame(\n",
        "    {\n",
        "        \"Age\": [30],\n",
        "        \"Workclass\": [\"Private\"],\n",
        "        \"Final_weight\": [77516],\n",
        "        \"Education\": [\"Bachelors\"],\n",
        "        \"Marital_status\": [\"Never-married\"],\n",
        "        \"Occupation\": [\"Adm-clerical\"],\n",
        "        \"Relationship\": [\"Not-in-family\"],\n",
        "        \"Race\": [\"White\"],\n",
        "        \"Sex\": [\"Male\"],\n",
        "        \"Capital_gain\": [0],\n",
        "        \"Capital_loss\": [0],\n",
        "        \"Hours_per_week\": [40],\n",
        "        \"Country\": [\"United-States\"],\n",
        "    }\n",
        ")\n",
        "\n",
        "# Convert categorical variables to dummy variables\n",
        "new_candidate = pd.get_dummies(new_candidate, columns=cat_vars)\n",
        "\n",
        "# Ensure that the new_candidate columns are in the same order as the training data\n",
        "new_candidate = new_candidate.reindex(columns=X_train.columns, fill_value=0)\n",
        "\n",
        "# Predict the salary of a person\n",
        "new_salary = rf_classifier.predict(new_candidate)\n",
        "\n",
        "if new_salary == 0:\n",
        "    print(\"The person makes over 50K a year\")\n",
        "else:\n",
        "    print(\"The person doesn't make over 50K a year\")"
      ],
      "id": "1d1afe2d-168c-4a4c-b55f-e034889df484"
    },
    {
      "cell_type": "markdown",
      "metadata": {
        "id": "01kRxopFJBHw"
      },
      "source": [
        "The above code is an attempt to predict the salary of a new candidate based on a logistic regression model trained on the data.\n",
        "\n",
        "The code first creates a pandas DataFrame named new_candidate containing the values of the features of the new candidate, including Age, Workclass, Final_weigh, Education, Education_num, Marital_status, Occupation, Relationship, Race, Sex, Capital-gain, Capital-loss, Hours-per-week, and Country.\n",
        "\n",
        "Then, the code attempts to predict the salary of the new candidate using the predict method of the logistic regression model that was previously trained. However, since the feature names in new_candidate do not match the feature names used during training, the code raises a ValueError.\n",
        "\n",
        "To fix this, the feature names in new_candidate should be changed to match the feature names used during training. To do this, the values for the categorical features should be one-hot encoded, similar to how it was done during training."
      ],
      "id": "01kRxopFJBHw"
    },
    {
      "cell_type": "markdown",
      "source": [
        "## Recommendation\n",
        "Further Investigate Class Imbalance: Since the dataset seems to be imbalanced, consider exploring techniques to address class imbalance, such as resampling methods (e.g., oversampling, undersampling) or using class weights during model training."
      ],
      "metadata": {
        "id": "uWNJ5mLIAS0b"
      },
      "id": "uWNJ5mLIAS0b"
    },
    {
      "cell_type": "markdown",
      "source": [
        "## Conclusion\n",
        "- Model Performance: The machine learning model shows promising performance in predicting individuals' salaries based on the provided features. It achieves an overall accuracy of 85%, indicating that it correctly predicts the salaries (above or below 50k) for the majority of individuals in the test set.\n",
        "- Distinguishing Low-Income Individuals: The model demonstrates high precision (88%) and recall (93%) for predicting low-income individuals (class 0). This means that the model correctly identifies a high percentage of individuals with salaries below or equal to 50k and has a low false positive rate, making it effective in distinguishing low-income individuals.\n",
        "\n",
        "- Identifying High-Income Individuals: While the model shows moderate precision (75%) for predicting high-income individuals (class 1), the recall (62%) indicates that it may not capture all high-income individuals. The false negative rate (9.4%) suggests that the model still misses some high-income individuals."
      ],
      "metadata": {
        "id": "dTBIg7DXAscF"
      },
      "id": "dTBIg7DXAscF"
    }
  ],
  "metadata": {
    "colab": {
      "provenance": [],
      "include_colab_link": true
    },
    "kernelspec": {
      "display_name": "Python 3 (ipykernel)",
      "language": "python",
      "name": "python3"
    },
    "language_info": {
      "codemirror_mode": {
        "name": "ipython",
        "version": 3
      },
      "file_extension": ".py",
      "mimetype": "text/x-python",
      "name": "python",
      "nbconvert_exporter": "python",
      "pygments_lexer": "ipython3",
      "version": "3.9.7"
    }
  },
  "nbformat": 4,
  "nbformat_minor": 5
}