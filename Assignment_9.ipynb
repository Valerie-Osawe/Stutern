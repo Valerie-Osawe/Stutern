{
  "cells": [
    {
      "cell_type": "markdown",
      "metadata": {
        "id": "view-in-github",
        "colab_type": "text"
      },
      "source": [
        "<a href=\"https://colab.research.google.com/github/Valerie-Osawe/Stutern/blob/main/Assignment_9.ipynb\" target=\"_parent\"><img src=\"https://colab.research.google.com/assets/colab-badge.svg\" alt=\"Open In Colab\"/></a>"
      ]
    },
    {
      "cell_type": "markdown",
      "id": "ea4f71cc-3255-4283-93c1-da83a00d1b0d",
      "metadata": {
        "id": "ea4f71cc-3255-4283-93c1-da83a00d1b0d"
      },
      "source": [
        "# Assignment 7 (Week 9)\n",
        "\n",
        ">**Note**: \n",
        "\n",
        "```\n",
        "- Late submissions are penalized.\n",
        "- Only GitHub submissions are acceptable.\n",
        "- Remember to read the `instructions` carefully.\n",
        "```\n",
        "\n",
        "## Name: Osaruonamen Olu-Osawe\n",
        "<br>\n",
        "\n",
        "## Please show and display ALL your calculations and results.\n"
      ]
    },
    {
      "cell_type": "code",
      "execution_count": 19,
      "id": "7f659c96-b085-483c-960c-16b53a0312e3",
      "metadata": {
        "id": "7f659c96-b085-483c-960c-16b53a0312e3",
        "colab": {
          "base_uri": "https://localhost:8080/"
        },
        "outputId": "5bbd1f90-b862-446b-aaa6-6d10ea4a4921"
      },
      "outputs": [
        {
          "output_type": "stream",
          "name": "stderr",
          "text": [
            "[nltk_data] Downloading package punkt to /root/nltk_data...\n",
            "[nltk_data]   Package punkt is already up-to-date!\n",
            "[nltk_data] Downloading package vader_lexicon to /root/nltk_data...\n"
          ]
        }
      ],
      "source": [
        "# Built-in library\n",
        "import itertools\n",
        "import re\n",
        "from typing import Any, Optional, Sequence, Union\n",
        "\n",
        "# Standard imports\n",
        "import numpy as np\n",
        "import pandas as pd\n",
        "import matplotlib.pyplot as plt\n",
        "import seaborn as sns\n",
        "\n",
        "\n",
        "# pandas settings\n",
        "pd.options.display.max_rows = 1_000\n",
        "pd.options.display.max_columns = 1_000\n",
        "pd.options.display.max_colwidth = 1_000\n",
        "\n",
        "import nltk\n",
        "nltk.download('stopwords', quiet=True)\n",
        "nltk.download('punkt')\n",
        "nltk.download('vader_lexicon')\n",
        "from nltk.corpus import stopwords\n",
        "from nltk.tokenize import word_tokenize\n",
        "from nltk.sentiment import SentimentIntensityAnalyzer"
      ]
    },
    {
      "cell_type": "code",
      "execution_count": 1,
      "id": "ffed0267-e8b6-4bb2-ba37-34771056f387",
      "metadata": {
        "id": "ffed0267-e8b6-4bb2-ba37-34771056f387"
      },
      "outputs": [],
      "source": []
    },
    {
      "cell_type": "code",
      "execution_count": 1,
      "id": "10d6ec1e-c5a9-4fc3-b00e-aa9f3966e96f",
      "metadata": {
        "id": "10d6ec1e-c5a9-4fc3-b00e-aa9f3966e96f"
      },
      "outputs": [],
      "source": []
    },
    {
      "cell_type": "markdown",
      "id": "172f8480-1c1d-46b3-a205-87f96b140b69",
      "metadata": {
        "id": "172f8480-1c1d-46b3-a205-87f96b140b69"
      },
      "source": [
        "> Data source is from **Kaggle**. To complete this assignment, you **must create an account** with **Kaggle**.\n",
        "\n",
        "- The data can be found [here](https://www.kaggle.com/datasets/nenamalikah/nlp-ulta-skincare-reviews).\n",
        "\n",
        "### Data Dictionary\n",
        "\n",
        "```\n",
        "- Review Title: The title of the review.\n",
        "- Review_Text: The full text of the review.\n",
        "- Verified_Buyer: Whether the reviewer is a verified buyer of the product.\n",
        "- Review_Date: The date the review was published relative to the review scrape date.\n",
        "- Review_Location: The location of the reviewer.\n",
        "- Review_Upvotes: How many times the review was upvoted by other reviewers.\n",
        "- Review_Downvotes: How many times the review was downvoted by other reviewers.\n",
        "- Product: The name of the product the review was issued for.\n",
        "- Brand: The brand of the product.\n",
        "- Scrape Date: The date the data was pulled from the web.\n",
        "```\n",
        "\n",
        "### Objectives\n",
        "\n",
        "```\n",
        "1. Exploratory Data Analysis.\n",
        "\n",
        "2. Research and experimentation.\n",
        "\n",
        "3. Sentiments Analysis.\n",
        "\n",
        "```\n",
        "\n",
        "\n",
        "<br><hr>"
      ]
    },
    {
      "cell_type": "markdown",
      "id": "35397296-515a-40b0-a7a7-04ddfdff2c4b",
      "metadata": {
        "id": "35397296-515a-40b0-a7a7-04ddfdff2c4b"
      },
      "source": [
        "###  Qs 1. Explore the data. What can the reviews tell us about the products? Do most buyers have common skincare issues? What issues did the products help solve or exacerbate?\n"
      ]
    },
    {
      "cell_type": "code",
      "execution_count": 2,
      "id": "a0038bcd-5c4a-44f9-abe7-e3887fec07aa",
      "metadata": {
        "id": "a0038bcd-5c4a-44f9-abe7-e3887fec07aa",
        "colab": {
          "base_uri": "https://localhost:8080/",
          "height": 1000
        },
        "outputId": "989d8795-3ffd-407e-9dc5-4ca01ad6def2"
      },
      "outputs": [
        {
          "output_type": "execute_result",
          "data": {
            "text/plain": [
              "                      Review_Title  \\\n",
              "0                          Perfect   \n",
              "1                    You need this   \n",
              "2                       Clean skin   \n",
              "3                 Love This Stuff!   \n",
              "4  This exfoliates very nicely and   \n",
              "\n",
              "                                                                                                                                                                                                                                  Review_Text  \\\n",
              "0                                                                                                                                                     Love using this on my face while in the shower. Heats up and gives a light scrub nicely   \n",
              "1                                                                                                                                                          Even better than the daily microfoliant. I'm obsessed. My skin is SO MUCH smoother   \n",
              "2                                                                                                                                                               Enjoy this product so much ! I look forward to using it - really feels great.   \n",
              "3  I've never tried anything like this before and I love it. When you apply it to your face you get a little shot of warm that feels so good. The scrub seems very gritty but the only side effects I've encountered have been positive ones.   \n",
              "4                                                                               This exfoliates very nicely and gives a very smooth skin after with no irritation and no reaction to the skin . I highly recommended it, i will buy it again.   \n",
              "\n",
              "  Verified_Buyer   Review_Date Review_Location  Review_Upvotes  \\\n",
              "0             No   15 days ago     Undisclosed               0   \n",
              "1             No   27 days ago     Undisclosed               0   \n",
              "2             No  2 months ago     Undisclosed               0   \n",
              "3             No  2 months ago     Undisclosed               0   \n",
              "4             No  2 months ago     Undisclosed               0   \n",
              "\n",
              "   Review_Downvotes                      Product        Brand Scrape_Date  \n",
              "0                 0  Multi-Vitamin Thermafoliant  Dermalogica     3/27/23  \n",
              "1                 0  Multi-Vitamin Thermafoliant  Dermalogica     3/27/23  \n",
              "2                 0  Multi-Vitamin Thermafoliant  Dermalogica     3/27/23  \n",
              "3                 0  Multi-Vitamin Thermafoliant  Dermalogica     3/27/23  \n",
              "4                 0  Multi-Vitamin Thermafoliant  Dermalogica     3/27/23  "
            ],
            "text/html": [
              "\n",
              "  <div id=\"df-370608f5-0b0b-4ac0-af57-54101ce3fa6a\">\n",
              "    <div class=\"colab-df-container\">\n",
              "      <div>\n",
              "<style scoped>\n",
              "    .dataframe tbody tr th:only-of-type {\n",
              "        vertical-align: middle;\n",
              "    }\n",
              "\n",
              "    .dataframe tbody tr th {\n",
              "        vertical-align: top;\n",
              "    }\n",
              "\n",
              "    .dataframe thead th {\n",
              "        text-align: right;\n",
              "    }\n",
              "</style>\n",
              "<table border=\"1\" class=\"dataframe\">\n",
              "  <thead>\n",
              "    <tr style=\"text-align: right;\">\n",
              "      <th></th>\n",
              "      <th>Review_Title</th>\n",
              "      <th>Review_Text</th>\n",
              "      <th>Verified_Buyer</th>\n",
              "      <th>Review_Date</th>\n",
              "      <th>Review_Location</th>\n",
              "      <th>Review_Upvotes</th>\n",
              "      <th>Review_Downvotes</th>\n",
              "      <th>Product</th>\n",
              "      <th>Brand</th>\n",
              "      <th>Scrape_Date</th>\n",
              "    </tr>\n",
              "  </thead>\n",
              "  <tbody>\n",
              "    <tr>\n",
              "      <th>0</th>\n",
              "      <td>Perfect</td>\n",
              "      <td>Love using this on my face while in the shower. Heats up and gives a light scrub nicely</td>\n",
              "      <td>No</td>\n",
              "      <td>15 days ago</td>\n",
              "      <td>Undisclosed</td>\n",
              "      <td>0</td>\n",
              "      <td>0</td>\n",
              "      <td>Multi-Vitamin Thermafoliant</td>\n",
              "      <td>Dermalogica</td>\n",
              "      <td>3/27/23</td>\n",
              "    </tr>\n",
              "    <tr>\n",
              "      <th>1</th>\n",
              "      <td>You need this</td>\n",
              "      <td>Even better than the daily microfoliant. I'm obsessed. My skin is SO MUCH smoother</td>\n",
              "      <td>No</td>\n",
              "      <td>27 days ago</td>\n",
              "      <td>Undisclosed</td>\n",
              "      <td>0</td>\n",
              "      <td>0</td>\n",
              "      <td>Multi-Vitamin Thermafoliant</td>\n",
              "      <td>Dermalogica</td>\n",
              "      <td>3/27/23</td>\n",
              "    </tr>\n",
              "    <tr>\n",
              "      <th>2</th>\n",
              "      <td>Clean skin</td>\n",
              "      <td>Enjoy this product so much ! I look forward to using it - really feels great.</td>\n",
              "      <td>No</td>\n",
              "      <td>2 months ago</td>\n",
              "      <td>Undisclosed</td>\n",
              "      <td>0</td>\n",
              "      <td>0</td>\n",
              "      <td>Multi-Vitamin Thermafoliant</td>\n",
              "      <td>Dermalogica</td>\n",
              "      <td>3/27/23</td>\n",
              "    </tr>\n",
              "    <tr>\n",
              "      <th>3</th>\n",
              "      <td>Love This Stuff!</td>\n",
              "      <td>I've never tried anything like this before and I love it. When you apply it to your face you get a little shot of warm that feels so good. The scrub seems very gritty but the only side effects I've encountered have been positive ones.</td>\n",
              "      <td>No</td>\n",
              "      <td>2 months ago</td>\n",
              "      <td>Undisclosed</td>\n",
              "      <td>0</td>\n",
              "      <td>0</td>\n",
              "      <td>Multi-Vitamin Thermafoliant</td>\n",
              "      <td>Dermalogica</td>\n",
              "      <td>3/27/23</td>\n",
              "    </tr>\n",
              "    <tr>\n",
              "      <th>4</th>\n",
              "      <td>This exfoliates very nicely and</td>\n",
              "      <td>This exfoliates very nicely and gives a very smooth skin after with no irritation and no reaction to the skin . I highly recommended it, i will buy it again.</td>\n",
              "      <td>No</td>\n",
              "      <td>2 months ago</td>\n",
              "      <td>Undisclosed</td>\n",
              "      <td>0</td>\n",
              "      <td>0</td>\n",
              "      <td>Multi-Vitamin Thermafoliant</td>\n",
              "      <td>Dermalogica</td>\n",
              "      <td>3/27/23</td>\n",
              "    </tr>\n",
              "  </tbody>\n",
              "</table>\n",
              "</div>\n",
              "      <button class=\"colab-df-convert\" onclick=\"convertToInteractive('df-370608f5-0b0b-4ac0-af57-54101ce3fa6a')\"\n",
              "              title=\"Convert this dataframe to an interactive table.\"\n",
              "              style=\"display:none;\">\n",
              "        \n",
              "  <svg xmlns=\"http://www.w3.org/2000/svg\" height=\"24px\"viewBox=\"0 0 24 24\"\n",
              "       width=\"24px\">\n",
              "    <path d=\"M0 0h24v24H0V0z\" fill=\"none\"/>\n",
              "    <path d=\"M18.56 5.44l.94 2.06.94-2.06 2.06-.94-2.06-.94-.94-2.06-.94 2.06-2.06.94zm-11 1L8.5 8.5l.94-2.06 2.06-.94-2.06-.94L8.5 2.5l-.94 2.06-2.06.94zm10 10l.94 2.06.94-2.06 2.06-.94-2.06-.94-.94-2.06-.94 2.06-2.06.94z\"/><path d=\"M17.41 7.96l-1.37-1.37c-.4-.4-.92-.59-1.43-.59-.52 0-1.04.2-1.43.59L10.3 9.45l-7.72 7.72c-.78.78-.78 2.05 0 2.83L4 21.41c.39.39.9.59 1.41.59.51 0 1.02-.2 1.41-.59l7.78-7.78 2.81-2.81c.8-.78.8-2.07 0-2.86zM5.41 20L4 18.59l7.72-7.72 1.47 1.35L5.41 20z\"/>\n",
              "  </svg>\n",
              "      </button>\n",
              "      \n",
              "  <style>\n",
              "    .colab-df-container {\n",
              "      display:flex;\n",
              "      flex-wrap:wrap;\n",
              "      gap: 12px;\n",
              "    }\n",
              "\n",
              "    .colab-df-convert {\n",
              "      background-color: #E8F0FE;\n",
              "      border: none;\n",
              "      border-radius: 50%;\n",
              "      cursor: pointer;\n",
              "      display: none;\n",
              "      fill: #1967D2;\n",
              "      height: 32px;\n",
              "      padding: 0 0 0 0;\n",
              "      width: 32px;\n",
              "    }\n",
              "\n",
              "    .colab-df-convert:hover {\n",
              "      background-color: #E2EBFA;\n",
              "      box-shadow: 0px 1px 2px rgba(60, 64, 67, 0.3), 0px 1px 3px 1px rgba(60, 64, 67, 0.15);\n",
              "      fill: #174EA6;\n",
              "    }\n",
              "\n",
              "    [theme=dark] .colab-df-convert {\n",
              "      background-color: #3B4455;\n",
              "      fill: #D2E3FC;\n",
              "    }\n",
              "\n",
              "    [theme=dark] .colab-df-convert:hover {\n",
              "      background-color: #434B5C;\n",
              "      box-shadow: 0px 1px 3px 1px rgba(0, 0, 0, 0.15);\n",
              "      filter: drop-shadow(0px 1px 2px rgba(0, 0, 0, 0.3));\n",
              "      fill: #FFFFFF;\n",
              "    }\n",
              "  </style>\n",
              "\n",
              "      <script>\n",
              "        const buttonEl =\n",
              "          document.querySelector('#df-370608f5-0b0b-4ac0-af57-54101ce3fa6a button.colab-df-convert');\n",
              "        buttonEl.style.display =\n",
              "          google.colab.kernel.accessAllowed ? 'block' : 'none';\n",
              "\n",
              "        async function convertToInteractive(key) {\n",
              "          const element = document.querySelector('#df-370608f5-0b0b-4ac0-af57-54101ce3fa6a');\n",
              "          const dataTable =\n",
              "            await google.colab.kernel.invokeFunction('convertToInteractive',\n",
              "                                                     [key], {});\n",
              "          if (!dataTable) return;\n",
              "\n",
              "          const docLinkHtml = 'Like what you see? Visit the ' +\n",
              "            '<a target=\"_blank\" href=https://colab.research.google.com/notebooks/data_table.ipynb>data table notebook</a>'\n",
              "            + ' to learn more about interactive tables.';\n",
              "          element.innerHTML = '';\n",
              "          dataTable['output_type'] = 'display_data';\n",
              "          await google.colab.output.renderOutput(dataTable, element);\n",
              "          const docLink = document.createElement('div');\n",
              "          docLink.innerHTML = docLinkHtml;\n",
              "          element.appendChild(docLink);\n",
              "        }\n",
              "      </script>\n",
              "    </div>\n",
              "  </div>\n",
              "  "
            ]
          },
          "metadata": {},
          "execution_count": 2
        }
      ],
      "source": [
        "skin_review = pd.read_csv('Ulta Skincare Reviews.csv')\n",
        "skin_review.head()"
      ]
    },
    {
      "cell_type": "code",
      "execution_count": 3,
      "id": "2e0d3a49-67a1-433d-a7f8-6ff80d5ef799",
      "metadata": {
        "id": "2e0d3a49-67a1-433d-a7f8-6ff80d5ef799",
        "colab": {
          "base_uri": "https://localhost:8080/"
        },
        "outputId": "52dd8682-dff3-4a33-c69e-0c895208f2b2"
      },
      "outputs": [
        {
          "output_type": "stream",
          "name": "stdout",
          "text": [
            "<class 'pandas.core.frame.DataFrame'>\n",
            "RangeIndex: 4150 entries, 0 to 4149\n",
            "Data columns (total 10 columns):\n",
            " #   Column            Non-Null Count  Dtype \n",
            "---  ------            --------------  ----- \n",
            " 0   Review_Title      4150 non-null   object\n",
            " 1   Review_Text       4148 non-null   object\n",
            " 2   Verified_Buyer    4150 non-null   object\n",
            " 3   Review_Date       4150 non-null   object\n",
            " 4   Review_Location   4149 non-null   object\n",
            " 5   Review_Upvotes    4150 non-null   int64 \n",
            " 6   Review_Downvotes  4150 non-null   int64 \n",
            " 7   Product           4150 non-null   object\n",
            " 8   Brand             4150 non-null   object\n",
            " 9   Scrape_Date       4150 non-null   object\n",
            "dtypes: int64(2), object(8)\n",
            "memory usage: 324.3+ KB\n"
          ]
        }
      ],
      "source": [
        "skin_review.info()"
      ]
    },
    {
      "cell_type": "code",
      "source": [
        "# check the row with missing values\n",
        "missing_rows = skin_review.isnull().any(axis = 1)\n",
        "skin_review[missing_rows]"
      ],
      "metadata": {
        "id": "kVLi7-OH8GfM",
        "colab": {
          "base_uri": "https://localhost:8080/",
          "height": 676
        },
        "outputId": "895e876e-45d1-4f74-b706-c854f4ad6ec8"
      },
      "id": "kVLi7-OH8GfM",
      "execution_count": 4,
      "outputs": [
        {
          "output_type": "execute_result",
          "data": {
            "text/plain": [
              "                         Review_Title  \\\n",
              "3397                Half full product   \n",
              "3684  Received a sample and loved it!   \n",
              "3686               This product works   \n",
              "\n",
              "                                                                                                                                                                                                                                                                                                     Review_Text  \\\n",
              "3397  The only reason I'm rating this three stars is because it's already a travel-size item, do they really needs to only fill the bottle up halfway? For how pricey this travel size bottle is, they could at least fill the whole thing up or use a smaller container, because otherwise it seems misleading.   \n",
              "3684                                                                                                                                                                                                                                                                                                         NaN   \n",
              "3686                                                                                                                                                                                                                                                                                                         NaN   \n",
              "\n",
              "     Verified_Buyer  Review_Date Review_Location  Review_Upvotes  \\\n",
              "3397             No  2 years ago             NaN               2   \n",
              "3684            Yes  4 years ago    Columbia, SC               0   \n",
              "3686            Yes  4 years ago    Columbia, SC               0   \n",
              "\n",
              "      Review_Downvotes             Product        Brand Scrape_Date  \n",
              "3397                 0  Daily Microfoliant  Dermalogica     3/27/23  \n",
              "3684                 0  Daily Microfoliant  Dermalogica     3/27/23  \n",
              "3686                 0  Daily Microfoliant  Dermalogica     3/27/23  "
            ],
            "text/html": [
              "\n",
              "  <div id=\"df-6a448615-0c9c-465a-9881-c50555f223f8\">\n",
              "    <div class=\"colab-df-container\">\n",
              "      <div>\n",
              "<style scoped>\n",
              "    .dataframe tbody tr th:only-of-type {\n",
              "        vertical-align: middle;\n",
              "    }\n",
              "\n",
              "    .dataframe tbody tr th {\n",
              "        vertical-align: top;\n",
              "    }\n",
              "\n",
              "    .dataframe thead th {\n",
              "        text-align: right;\n",
              "    }\n",
              "</style>\n",
              "<table border=\"1\" class=\"dataframe\">\n",
              "  <thead>\n",
              "    <tr style=\"text-align: right;\">\n",
              "      <th></th>\n",
              "      <th>Review_Title</th>\n",
              "      <th>Review_Text</th>\n",
              "      <th>Verified_Buyer</th>\n",
              "      <th>Review_Date</th>\n",
              "      <th>Review_Location</th>\n",
              "      <th>Review_Upvotes</th>\n",
              "      <th>Review_Downvotes</th>\n",
              "      <th>Product</th>\n",
              "      <th>Brand</th>\n",
              "      <th>Scrape_Date</th>\n",
              "    </tr>\n",
              "  </thead>\n",
              "  <tbody>\n",
              "    <tr>\n",
              "      <th>3397</th>\n",
              "      <td>Half full product</td>\n",
              "      <td>The only reason I'm rating this three stars is because it's already a travel-size item, do they really needs to only fill the bottle up halfway? For how pricey this travel size bottle is, they could at least fill the whole thing up or use a smaller container, because otherwise it seems misleading.</td>\n",
              "      <td>No</td>\n",
              "      <td>2 years ago</td>\n",
              "      <td>NaN</td>\n",
              "      <td>2</td>\n",
              "      <td>0</td>\n",
              "      <td>Daily Microfoliant</td>\n",
              "      <td>Dermalogica</td>\n",
              "      <td>3/27/23</td>\n",
              "    </tr>\n",
              "    <tr>\n",
              "      <th>3684</th>\n",
              "      <td>Received a sample and loved it!</td>\n",
              "      <td>NaN</td>\n",
              "      <td>Yes</td>\n",
              "      <td>4 years ago</td>\n",
              "      <td>Columbia, SC</td>\n",
              "      <td>0</td>\n",
              "      <td>0</td>\n",
              "      <td>Daily Microfoliant</td>\n",
              "      <td>Dermalogica</td>\n",
              "      <td>3/27/23</td>\n",
              "    </tr>\n",
              "    <tr>\n",
              "      <th>3686</th>\n",
              "      <td>This product works</td>\n",
              "      <td>NaN</td>\n",
              "      <td>Yes</td>\n",
              "      <td>4 years ago</td>\n",
              "      <td>Columbia, SC</td>\n",
              "      <td>0</td>\n",
              "      <td>0</td>\n",
              "      <td>Daily Microfoliant</td>\n",
              "      <td>Dermalogica</td>\n",
              "      <td>3/27/23</td>\n",
              "    </tr>\n",
              "  </tbody>\n",
              "</table>\n",
              "</div>\n",
              "      <button class=\"colab-df-convert\" onclick=\"convertToInteractive('df-6a448615-0c9c-465a-9881-c50555f223f8')\"\n",
              "              title=\"Convert this dataframe to an interactive table.\"\n",
              "              style=\"display:none;\">\n",
              "        \n",
              "  <svg xmlns=\"http://www.w3.org/2000/svg\" height=\"24px\"viewBox=\"0 0 24 24\"\n",
              "       width=\"24px\">\n",
              "    <path d=\"M0 0h24v24H0V0z\" fill=\"none\"/>\n",
              "    <path d=\"M18.56 5.44l.94 2.06.94-2.06 2.06-.94-2.06-.94-.94-2.06-.94 2.06-2.06.94zm-11 1L8.5 8.5l.94-2.06 2.06-.94-2.06-.94L8.5 2.5l-.94 2.06-2.06.94zm10 10l.94 2.06.94-2.06 2.06-.94-2.06-.94-.94-2.06-.94 2.06-2.06.94z\"/><path d=\"M17.41 7.96l-1.37-1.37c-.4-.4-.92-.59-1.43-.59-.52 0-1.04.2-1.43.59L10.3 9.45l-7.72 7.72c-.78.78-.78 2.05 0 2.83L4 21.41c.39.39.9.59 1.41.59.51 0 1.02-.2 1.41-.59l7.78-7.78 2.81-2.81c.8-.78.8-2.07 0-2.86zM5.41 20L4 18.59l7.72-7.72 1.47 1.35L5.41 20z\"/>\n",
              "  </svg>\n",
              "      </button>\n",
              "      \n",
              "  <style>\n",
              "    .colab-df-container {\n",
              "      display:flex;\n",
              "      flex-wrap:wrap;\n",
              "      gap: 12px;\n",
              "    }\n",
              "\n",
              "    .colab-df-convert {\n",
              "      background-color: #E8F0FE;\n",
              "      border: none;\n",
              "      border-radius: 50%;\n",
              "      cursor: pointer;\n",
              "      display: none;\n",
              "      fill: #1967D2;\n",
              "      height: 32px;\n",
              "      padding: 0 0 0 0;\n",
              "      width: 32px;\n",
              "    }\n",
              "\n",
              "    .colab-df-convert:hover {\n",
              "      background-color: #E2EBFA;\n",
              "      box-shadow: 0px 1px 2px rgba(60, 64, 67, 0.3), 0px 1px 3px 1px rgba(60, 64, 67, 0.15);\n",
              "      fill: #174EA6;\n",
              "    }\n",
              "\n",
              "    [theme=dark] .colab-df-convert {\n",
              "      background-color: #3B4455;\n",
              "      fill: #D2E3FC;\n",
              "    }\n",
              "\n",
              "    [theme=dark] .colab-df-convert:hover {\n",
              "      background-color: #434B5C;\n",
              "      box-shadow: 0px 1px 3px 1px rgba(0, 0, 0, 0.15);\n",
              "      filter: drop-shadow(0px 1px 2px rgba(0, 0, 0, 0.3));\n",
              "      fill: #FFFFFF;\n",
              "    }\n",
              "  </style>\n",
              "\n",
              "      <script>\n",
              "        const buttonEl =\n",
              "          document.querySelector('#df-6a448615-0c9c-465a-9881-c50555f223f8 button.colab-df-convert');\n",
              "        buttonEl.style.display =\n",
              "          google.colab.kernel.accessAllowed ? 'block' : 'none';\n",
              "\n",
              "        async function convertToInteractive(key) {\n",
              "          const element = document.querySelector('#df-6a448615-0c9c-465a-9881-c50555f223f8');\n",
              "          const dataTable =\n",
              "            await google.colab.kernel.invokeFunction('convertToInteractive',\n",
              "                                                     [key], {});\n",
              "          if (!dataTable) return;\n",
              "\n",
              "          const docLinkHtml = 'Like what you see? Visit the ' +\n",
              "            '<a target=\"_blank\" href=https://colab.research.google.com/notebooks/data_table.ipynb>data table notebook</a>'\n",
              "            + ' to learn more about interactive tables.';\n",
              "          element.innerHTML = '';\n",
              "          dataTable['output_type'] = 'display_data';\n",
              "          await google.colab.output.renderOutput(dataTable, element);\n",
              "          const docLink = document.createElement('div');\n",
              "          docLink.innerHTML = docLinkHtml;\n",
              "          element.appendChild(docLink);\n",
              "        }\n",
              "      </script>\n",
              "    </div>\n",
              "  </div>\n",
              "  "
            ]
          },
          "metadata": {},
          "execution_count": 4
        }
      ]
    },
    {
      "cell_type": "code",
      "source": [
        "# Replace missing value in Review_Location with undisclosed\n",
        "skin_review['Review_Location'] = skin_review['Review_Location'].fillna('Undisclosed')\n",
        "\n",
        "# Replace the missing values in Review_Text with unknown\n",
        "skin_review['Review_Text'] = skin_review['Review_Text'].fillna('Unknown')"
      ],
      "metadata": {
        "id": "xvRXy3VS_StD"
      },
      "id": "xvRXy3VS_StD",
      "execution_count": 5,
      "outputs": []
    },
    {
      "cell_type": "code",
      "source": [
        "# check for duplicate rows\n",
        "skin_review.duplicated().sum()"
      ],
      "metadata": {
        "colab": {
          "base_uri": "https://localhost:8080/"
        },
        "id": "GsX8mdrPO1QM",
        "outputId": "633b72c8-6546-49fd-be5e-cacafb72819e"
      },
      "id": "GsX8mdrPO1QM",
      "execution_count": 6,
      "outputs": [
        {
          "output_type": "execute_result",
          "data": {
            "text/plain": [
              "456"
            ]
          },
          "metadata": {},
          "execution_count": 6
        }
      ]
    },
    {
      "cell_type": "code",
      "source": [
        "# Drop duplicates\n",
        "skin_review = skin_review.drop_duplicates(keep = 'first')"
      ],
      "metadata": {
        "id": "oEaOSJMlCfja"
      },
      "id": "oEaOSJMlCfja",
      "execution_count": 7,
      "outputs": []
    },
    {
      "cell_type": "markdown",
      "source": [
        "## What can the reviews tell us about the products?"
      ],
      "metadata": {
        "id": "I_xsXHvVYZGB"
      },
      "id": "I_xsXHvVYZGB"
    },
    {
      "cell_type": "code",
      "execution_count": 9,
      "id": "433bc74d-6a56-4f77-90be-7d848324ec94",
      "metadata": {
        "id": "433bc74d-6a56-4f77-90be-7d848324ec94",
        "colab": {
          "base_uri": "https://localhost:8080/"
        },
        "outputId": "8abdaa87-9954-47ff-fdd7-8364ddf50559"
      },
      "outputs": [
        {
          "output_type": "execute_result",
          "data": {
            "text/plain": [
              "array(['Multi-Vitamin Thermafoliant', 'Hydro Masque Exfoliant',\n",
              "       'Daily Superfoliant', 'Daily Microfoliant'], dtype=object)"
            ]
          },
          "metadata": {},
          "execution_count": 9
        }
      ],
      "source": [
        "skin_review.Product.unique()"
      ]
    },
    {
      "cell_type": "code",
      "source": [
        "# Preprocess the data\n",
        "stop_words = set(stopwords.words('english'))\n",
        "skin_review['clean_review'] = skin_review['Review_Text'].apply(lambda x: ' '.join([word for word in word_tokenize(x.lower()) if word.isalpha() and word not in stop_words]))\n",
        "# Group the data by product and analyze each product separately\n",
        "products = skin_review['Product'].unique()\n",
        "results = []\n",
        "for product in products:\n",
        "    product_df = skin_review[skin_review['Product'] == product]\n",
        "    sid = SentimentIntensityAnalyzer()\n",
        "    sentiment_scores = product_df['clean_review'].apply(lambda x: sid.polarity_scores(x)['compound'])\n",
        "    positive_reviews = (sentiment_scores > 0).sum()\n",
        "    negative_reviews = (sentiment_scores < 0).sum()\n",
        "    neutral_reviews = (sentiment_scores == 0).sum()\n",
        "    total_reviews = len(product_df)\n",
        "    results.append({\n",
        "        'product': product,\n",
        "        'positive_reviews': positive_reviews,\n",
        "        'negative_reviews': negative_reviews,\n",
        "        'neutral_reviews': neutral_reviews,\n",
        "        'total_reviews': total_reviews\n",
        "    })\n",
        "\n",
        "# Visualize the results\n",
        "results_df = pd.DataFrame(results)\n",
        "results_df['positive_pct'] = results_df['positive_reviews'] / results_df['total_reviews']\n",
        "results_df['negative_pct'] = results_df['negative_reviews'] / results_df['total_reviews']\n",
        "results_df.plot.bar(x='product', y=['positive_pct', 'negative_pct'], stacked=False)\n",
        "plt.show()\n"
      ],
      "metadata": {
        "colab": {
          "base_uri": "https://localhost:8080/",
          "height": 629
        },
        "id": "CdV_Ug0qYpc9",
        "outputId": "06af15aa-700b-4d28-dd56-1e44885b5711"
      },
      "id": "CdV_Ug0qYpc9",
      "execution_count": 22,
      "outputs": [
        {
          "output_type": "display_data",
          "data": {
            "text/plain": [
              "<Figure size 640x480 with 1 Axes>"
            ],
            "image/png": "[encoded data removed]"
          },
          "metadata": {}
        }
      ]
    },
    {
      "cell_type": "markdown",
      "source": [
        "From the bar plot above it can be seen that the reveiws of each products were majorly positive and so therefore the products are good"
      ],
      "metadata": {
        "id": "Nnz--x3adI4Q"
      },
      "id": "Nnz--x3adI4Q"
    },
    {
      "cell_type": "markdown",
      "id": "98668910-b1f7-4932-9586-716f2d6139ad",
      "metadata": {
        "id": "98668910-b1f7-4932-9586-716f2d6139ad"
      },
      "source": [
        "###  Qs 2. Create a wordcloud showing the words/phrases commonly associated with each product."
      ]
    },
    {
      "cell_type": "code",
      "execution_count": 8,
      "id": "c3f3df01-0e2c-4364-b694-222e65df8a2b",
      "metadata": {
        "id": "c3f3df01-0e2c-4364-b694-222e65df8a2b"
      },
      "outputs": [],
      "source": []
    },
    {
      "cell_type": "code",
      "execution_count": 8,
      "id": "424a5339-185b-4cc1-ba07-e5e0c9d31935",
      "metadata": {
        "id": "424a5339-185b-4cc1-ba07-e5e0c9d31935"
      },
      "outputs": [],
      "source": []
    },
    {
      "cell_type": "code",
      "execution_count": 8,
      "id": "7305e215-00b8-4c74-80e0-585643b00fd4",
      "metadata": {
        "id": "7305e215-00b8-4c74-80e0-585643b00fd4"
      },
      "outputs": [],
      "source": []
    },
    {
      "cell_type": "markdown",
      "id": "90a01b86-7cc0-4518-a8f8-02af588a4cf7",
      "metadata": {
        "id": "90a01b86-7cc0-4518-a8f8-02af588a4cf7"
      },
      "source": [
        "### Qs 3. Perform sentiment analysis. Build a ML model that can predict whether a review is positive or negative."
      ]
    },
    {
      "cell_type": "code",
      "execution_count": 8,
      "id": "869fa721-93a4-47a3-8a83-81ad6afda1cd",
      "metadata": {
        "id": "869fa721-93a4-47a3-8a83-81ad6afda1cd"
      },
      "outputs": [],
      "source": []
    },
    {
      "cell_type": "code",
      "execution_count": 8,
      "id": "d882c622-c472-43dd-b2e5-77468f263249",
      "metadata": {
        "id": "d882c622-c472-43dd-b2e5-77468f263249"
      },
      "outputs": [],
      "source": []
    },
    {
      "cell_type": "code",
      "execution_count": 8,
      "id": "509fe1b2-5375-4109-ab4e-1972bcedb43a",
      "metadata": {
        "id": "509fe1b2-5375-4109-ab4e-1972bcedb43a"
      },
      "outputs": [],
      "source": []
    },
    {
      "cell_type": "code",
      "execution_count": 8,
      "id": "51c4c104-829d-45a3-9663-e3538da7b27d",
      "metadata": {
        "id": "51c4c104-829d-45a3-9663-e3538da7b27d"
      },
      "outputs": [],
      "source": []
    }
  ],
  "metadata": {
    "kernelspec": {
      "display_name": "Python(ds)",
      "language": "python",
      "name": "ds"
    },
    "language_info": {
      "codemirror_mode": {
        "name": "ipython",
        "version": 3
      },
      "file_extension": ".py",
      "mimetype": "text/x-python",
      "name": "python",
      "nbconvert_exporter": "python",
      "pygments_lexer": "ipython3",
      "version": "3.9.0"
    },
    "colab": {
      "provenance": [],
      "include_colab_link": true
    }
  },
  "nbformat": 4,
  "nbformat_minor": 5
}